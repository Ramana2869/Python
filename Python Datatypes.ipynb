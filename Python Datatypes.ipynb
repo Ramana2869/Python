{
 "cells": [
  {
   "cell_type": "markdown",
   "id": "4f12a102",
   "metadata": {},
   "source": [
    "# Python Datatypes"
   ]
  },
  {
   "cell_type": "markdown",
   "id": "56707d2b",
   "metadata": {},
   "source": [
    "In programming, data type is an important concept."
   ]
  },
  {
   "cell_type": "markdown",
   "id": "a7134425",
   "metadata": {},
   "source": [
    "Variables can store data of different types, and different types can do different things."
   ]
  },
  {
   "cell_type": "markdown",
   "id": "698d4e57",
   "metadata": {},
   "source": [
    "Python has the following data types built-in by default, in these categories:"
   ]
  },
  {
   "cell_type": "markdown",
   "id": "94fdac96",
   "metadata": {},
   "source": [
    "Text Type:\tstr"
   ]
  },
  {
   "cell_type": "markdown",
   "id": "56ba272d",
   "metadata": {},
   "source": [
    "Numeric Types:\tint, float, complex"
   ]
  },
  {
   "cell_type": "markdown",
   "id": "62e4bcbb",
   "metadata": {},
   "source": [
    "Sequence Types:\tlist, tuple, range"
   ]
  },
  {
   "cell_type": "markdown",
   "id": "c5e39fb2",
   "metadata": {},
   "source": [
    "Mapping Type:\tdict"
   ]
  },
  {
   "cell_type": "markdown",
   "id": "f9836454",
   "metadata": {},
   "source": [
    "Set Types:\tset, frozenset"
   ]
  },
  {
   "cell_type": "markdown",
   "id": "e8c555d2",
   "metadata": {},
   "source": [
    "Boolean Type:\tbool"
   ]
  },
  {
   "cell_type": "markdown",
   "id": "ed3b3cee",
   "metadata": {},
   "source": [
    "## Python Numbers"
   ]
  },
  {
   "cell_type": "markdown",
   "id": "495ce4cb",
   "metadata": {},
   "source": [
    "There are three numeric types in Python:"
   ]
  },
  {
   "cell_type": "markdown",
   "id": "9c9e0070",
   "metadata": {},
   "source": [
    "1.int"
   ]
  },
  {
   "cell_type": "markdown",
   "id": "90fff893",
   "metadata": {},
   "source": [
    "2.float"
   ]
  },
  {
   "cell_type": "markdown",
   "id": "f0c16686",
   "metadata": {},
   "source": [
    "3.complex"
   ]
  },
  {
   "cell_type": "code",
   "execution_count": 2,
   "id": "a1ef01c6",
   "metadata": {},
   "outputs": [],
   "source": [
    "a = 2869     # int\n",
    "b = 28.69    # float\n",
    "c = 2+8j     # complex"
   ]
  },
  {
   "cell_type": "code",
   "execution_count": 3,
   "id": "2afd79f8",
   "metadata": {},
   "outputs": [
    {
     "name": "stdout",
     "output_type": "stream",
     "text": [
      "<class 'int'>\n",
      "<class 'float'>\n",
      "<class 'complex'>\n"
     ]
    }
   ],
   "source": [
    "print(type(a))\n",
    "print(type(b))\n",
    "print(type(c))"
   ]
  },
  {
   "cell_type": "markdown",
   "id": "8fb15950",
   "metadata": {},
   "source": [
    "## Type Conversion"
   ]
  },
  {
   "cell_type": "markdown",
   "id": "96911f98",
   "metadata": {},
   "source": [
    "You can convert from one type to another with the int(), float(), and complex() methods."
   ]
  },
  {
   "cell_type": "markdown",
   "id": "7935a69b",
   "metadata": {},
   "source": [
    "Note: You cannot convert complex numbers into another number type."
   ]
  },
  {
   "cell_type": "code",
   "execution_count": 9,
   "id": "8eaab9ca",
   "metadata": {},
   "outputs": [],
   "source": [
    "a = 2869     # int\n",
    "b = 28.69    # float\n",
    "c = 2+8j     # complex"
   ]
  },
  {
   "cell_type": "code",
   "execution_count": 10,
   "id": "c8577156",
   "metadata": {},
   "outputs": [
    {
     "name": "stdout",
     "output_type": "stream",
     "text": [
      "2869.0\n",
      "<class 'float'>\n"
     ]
    }
   ],
   "source": [
    "# converting from int to float\n",
    "a = float(a)\n",
    "\n",
    "print(a)\n",
    "print(type(a))"
   ]
  },
  {
   "cell_type": "code",
   "execution_count": 11,
   "id": "9b27346b",
   "metadata": {},
   "outputs": [
    {
     "name": "stdout",
     "output_type": "stream",
     "text": [
      "28\n",
      "<class 'int'>\n"
     ]
    }
   ],
   "source": [
    "# converting from float to int\n",
    "b = int(b)\n",
    "\n",
    "print(b)\n",
    "print(type(b))"
   ]
  },
  {
   "cell_type": "code",
   "execution_count": 12,
   "id": "9ce15f13",
   "metadata": {},
   "outputs": [
    {
     "name": "stdout",
     "output_type": "stream",
     "text": [
      "(2869+0j)\n",
      "<class 'complex'>\n"
     ]
    }
   ],
   "source": [
    "# converting from int to complex\n",
    "a = complex(a)\n",
    "\n",
    "print(a)\n",
    "print(type(a))"
   ]
  },
  {
   "cell_type": "markdown",
   "id": "d0e88f1c",
   "metadata": {},
   "source": [
    "## Python Booleans "
   ]
  },
  {
   "cell_type": "markdown",
   "id": "4cef2646",
   "metadata": {},
   "source": [
    "Booleans represent one of two values: True or False."
   ]
  },
  {
   "cell_type": "markdown",
   "id": "fbd7b362",
   "metadata": {},
   "source": [
    "The bool() function allows you to evaluate any value, and give you True or False in return."
   ]
  },
  {
   "cell_type": "code",
   "execution_count": 16,
   "id": "e040c15d",
   "metadata": {},
   "outputs": [
    {
     "name": "stdout",
     "output_type": "stream",
     "text": [
      "False\n",
      "True\n",
      "True\n"
     ]
    }
   ],
   "source": [
    "print(28 > 69)\n",
    "print(28 < 69)\n",
    "print(28 == 28)"
   ]
  },
  {
   "cell_type": "code",
   "execution_count": null,
   "id": "a5d5f51b",
   "metadata": {},
   "outputs": [],
   "source": []
  },
  {
   "cell_type": "code",
   "execution_count": null,
   "id": "26d3f789",
   "metadata": {},
   "outputs": [],
   "source": []
  }
 ],
 "metadata": {
  "kernelspec": {
   "display_name": "Python 3 (ipykernel)",
   "language": "python",
   "name": "python3"
  },
  "language_info": {
   "codemirror_mode": {
    "name": "ipython",
    "version": 3
   },
   "file_extension": ".py",
   "mimetype": "text/x-python",
   "name": "python",
   "nbconvert_exporter": "python",
   "pygments_lexer": "ipython3",
   "version": "3.11.5"
  }
 },
 "nbformat": 4,
 "nbformat_minor": 5
}
