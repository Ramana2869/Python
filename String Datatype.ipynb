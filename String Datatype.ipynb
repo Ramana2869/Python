{
 "cells": [
  {
   "cell_type": "markdown",
   "id": "ec8b5e08",
   "metadata": {},
   "source": [
    "# String Datatype"
   ]
  },
  {
   "cell_type": "markdown",
   "id": "b9648592",
   "metadata": {},
   "source": [
    "In Python, a string is a sequence of characters."
   ]
  },
  {
   "cell_type": "markdown",
   "id": "0c627760",
   "metadata": {},
   "source": [
    "We use single quotes or double quotes to represent a string in python."
   ]
  },
  {
   "cell_type": "markdown",
   "id": "52e581ad",
   "metadata": {},
   "source": [
    "Strings are one of the most commonly used data types, and they are used to represent text."
   ]
  },
  {
   "cell_type": "markdown",
   "id": "3aeef3b5",
   "metadata": {},
   "source": [
    "Strings are immutable, means that once a string is created, you cannot modify its content directly."
   ]
  },
  {
   "cell_type": "code",
   "execution_count": 1,
   "id": "3316fb5d",
   "metadata": {},
   "outputs": [],
   "source": [
    "# string datatype\n",
    "str1 = \"i am sai karin and i am an architect\""
   ]
  },
  {
   "cell_type": "code",
   "execution_count": 2,
   "id": "c766892e",
   "metadata": {},
   "outputs": [
    {
     "name": "stdout",
     "output_type": "stream",
     "text": [
      "k\n"
     ]
    }
   ],
   "source": [
    "#accessing characters\n",
    "print(str1[9])"
   ]
  },
  {
   "cell_type": "code",
   "execution_count": 3,
   "id": "5154ea46",
   "metadata": {},
   "outputs": [
    {
     "name": "stdout",
     "output_type": "stream",
     "text": [
      "e\n"
     ]
    }
   ],
   "source": [
    "print(str1[-3])"
   ]
  },
  {
   "cell_type": "markdown",
   "id": "b163ac62",
   "metadata": {},
   "source": [
    "## String Methods"
   ]
  },
  {
   "cell_type": "code",
   "execution_count": 86,
   "id": "de784e64",
   "metadata": {},
   "outputs": [
    {
     "data": {
      "text/plain": [
       "36"
      ]
     },
     "execution_count": 86,
     "metadata": {},
     "output_type": "execute_result"
    }
   ],
   "source": [
    "#len             # it will give no.of characters in a string\n",
    "len(str1)"
   ]
  },
  {
   "cell_type": "code",
   "execution_count": 87,
   "id": "136f7f2d",
   "metadata": {},
   "outputs": [
    {
     "data": {
      "text/plain": [
       "['i', 'am', 'sai', 'karin', 'and', 'i', 'am', 'an', 'architect']"
      ]
     },
     "execution_count": 87,
     "metadata": {},
     "output_type": "execute_result"
    }
   ],
   "source": [
    "#split           # it will divide every word into substrings \n",
    "str1.split()"
   ]
  },
  {
   "cell_type": "code",
   "execution_count": 88,
   "id": "0260b759",
   "metadata": {},
   "outputs": [
    {
     "data": {
      "text/plain": [
       "'I AM SAI KARIN AND I AM AN ARCHITECT'"
      ]
     },
     "execution_count": 88,
     "metadata": {},
     "output_type": "execute_result"
    }
   ],
   "source": [
    "#upper           # it will convert string into uppercase\n",
    "str1.upper()"
   ]
  },
  {
   "cell_type": "code",
   "execution_count": 89,
   "id": "d6f7f9ed",
   "metadata": {},
   "outputs": [
    {
     "data": {
      "text/plain": [
       "'i am sai karin and i am an architect'"
      ]
     },
     "execution_count": 89,
     "metadata": {},
     "output_type": "execute_result"
    }
   ],
   "source": [
    "#lower           # it will convert string into lowercase\n",
    "str1.lower()"
   ]
  },
  {
   "cell_type": "code",
   "execution_count": 90,
   "id": "5e88c23a",
   "metadata": {},
   "outputs": [
    {
     "data": {
      "text/plain": [
       "'i am sai karin and i am an architect'"
      ]
     },
     "execution_count": 90,
     "metadata": {},
     "output_type": "execute_result"
    }
   ],
   "source": [
    "#strip           # it will remove white spaces front and end of the string\n",
    "str1.strip()"
   ]
  },
  {
   "cell_type": "code",
   "execution_count": 91,
   "id": "242c9244",
   "metadata": {},
   "outputs": [
    {
     "data": {
      "text/plain": [
       "'i am sai karin and i am an arcsitect'"
      ]
     },
     "execution_count": 91,
     "metadata": {},
     "output_type": "execute_result"
    }
   ],
   "source": [
    "#replace         # it will remove old character and add new character into a string\n",
    "str1.replace('h','s')"
   ]
  },
  {
   "cell_type": "markdown",
   "id": "34560185",
   "metadata": {},
   "source": []
  },
  {
   "cell_type": "code",
   "execution_count": 92,
   "id": "315da8d2",
   "metadata": {},
   "outputs": [
    {
     "data": {
      "text/plain": [
       "11"
      ]
     },
     "execution_count": 92,
     "metadata": {},
     "output_type": "execute_result"
    }
   ],
   "source": [
    "#find            # it will give index position number\n",
    "str1.find('r')"
   ]
  },
  {
   "cell_type": "code",
   "execution_count": 57,
   "id": "e7d79386",
   "metadata": {},
   "outputs": [
    {
     "data": {
      "text/plain": [
       "7"
      ]
     },
     "execution_count": 57,
     "metadata": {},
     "output_type": "execute_result"
    }
   ],
   "source": [
    "#count           # returns a character no.of times occured\n",
    "str1.count('a')"
   ]
  },
  {
   "cell_type": "code",
   "execution_count": 93,
   "id": "fb2332e3",
   "metadata": {},
   "outputs": [],
   "source": [
    "str2 = \"i have 20 years of experience\""
   ]
  },
  {
   "cell_type": "code",
   "execution_count": 94,
   "id": "5f5ca49a",
   "metadata": {},
   "outputs": [
    {
     "name": "stdout",
     "output_type": "stream",
     "text": [
      "ae2 er\n"
     ]
    }
   ],
   "source": [
    "#slicing\n",
    "print(str2[3:14:2])"
   ]
  },
  {
   "cell_type": "code",
   "execution_count": 95,
   "id": "fa553538",
   "metadata": {},
   "outputs": [
    {
     "data": {
      "text/plain": [
       "'I HAVE 20 YEARS OF EXPERIENCE'"
      ]
     },
     "execution_count": 95,
     "metadata": {},
     "output_type": "execute_result"
    }
   ],
   "source": [
    "#string methods\n",
    "#upper\n",
    "str2.upper()"
   ]
  },
  {
   "cell_type": "code",
   "execution_count": 96,
   "id": "18731248",
   "metadata": {},
   "outputs": [
    {
     "data": {
      "text/plain": [
       "'i have 20 years of experience'"
      ]
     },
     "execution_count": 96,
     "metadata": {},
     "output_type": "execute_result"
    }
   ],
   "source": [
    "#lower\n",
    "str2.lower()"
   ]
  },
  {
   "cell_type": "code",
   "execution_count": 97,
   "id": "cd5a653a",
   "metadata": {},
   "outputs": [
    {
     "data": {
      "text/plain": [
       "['i', 'have', '20', 'years', 'of', 'experience']"
      ]
     },
     "execution_count": 97,
     "metadata": {},
     "output_type": "execute_result"
    }
   ],
   "source": [
    "#split\n",
    "str2.split()"
   ]
  },
  {
   "cell_type": "code",
   "execution_count": 98,
   "id": "77dbf816",
   "metadata": {},
   "outputs": [
    {
     "data": {
      "text/plain": [
       "'i have 25 years of experience'"
      ]
     },
     "execution_count": 98,
     "metadata": {},
     "output_type": "execute_result"
    }
   ],
   "source": [
    "#replace\n",
    "str2.replace('20','25')"
   ]
  },
  {
   "cell_type": "code",
   "execution_count": 99,
   "id": "19ebf254",
   "metadata": {},
   "outputs": [
    {
     "data": {
      "text/plain": [
       "'i have 20 years of experience'"
      ]
     },
     "execution_count": 99,
     "metadata": {},
     "output_type": "execute_result"
    }
   ],
   "source": [
    "#lstrip\n",
    "str2.lstrip()"
   ]
  },
  {
   "cell_type": "code",
   "execution_count": 100,
   "id": "760b8f29",
   "metadata": {},
   "outputs": [
    {
     "data": {
      "text/plain": [
       "'i have 20 years of experience'"
      ]
     },
     "execution_count": 100,
     "metadata": {},
     "output_type": "execute_result"
    }
   ],
   "source": [
    "#rstrip\n",
    "str2.rstrip()"
   ]
  },
  {
   "cell_type": "code",
   "execution_count": 101,
   "id": "3ba98755",
   "metadata": {},
   "outputs": [
    {
     "data": {
      "text/plain": [
       "False"
      ]
     },
     "execution_count": 101,
     "metadata": {},
     "output_type": "execute_result"
    }
   ],
   "source": [
    "#startswith\n",
    "str2.startswith('v')"
   ]
  },
  {
   "cell_type": "code",
   "execution_count": 102,
   "id": "ed726673",
   "metadata": {},
   "outputs": [
    {
     "data": {
      "text/plain": [
       "True"
      ]
     },
     "execution_count": 102,
     "metadata": {},
     "output_type": "execute_result"
    }
   ],
   "source": [
    "#endswith\n",
    "str2.endswith('e')"
   ]
  },
  {
   "cell_type": "code",
   "execution_count": 103,
   "id": "30349172",
   "metadata": {},
   "outputs": [
    {
     "data": {
      "text/plain": [
       "10"
      ]
     },
     "execution_count": 103,
     "metadata": {},
     "output_type": "execute_result"
    }
   ],
   "source": [
    "#rfind\n",
    "str2.rfind('y')"
   ]
  },
  {
   "cell_type": "markdown",
   "id": "38255a8f",
   "metadata": {},
   "source": [
    "## String Operations"
   ]
  },
  {
   "cell_type": "code",
   "execution_count": 2,
   "id": "77bb15ec",
   "metadata": {},
   "outputs": [],
   "source": [
    "#concatenation\n",
    "str1 = \"i am sai karin and i am an architect\"\n",
    "str2 = \"i have 20 years of experience\""
   ]
  },
  {
   "cell_type": "code",
   "execution_count": 3,
   "id": "45f3f4e5",
   "metadata": {},
   "outputs": [
    {
     "data": {
      "text/plain": [
       "'i am sai karin and i am an architect i have 20 years of experience'"
      ]
     },
     "execution_count": 3,
     "metadata": {},
     "output_type": "execute_result"
    }
   ],
   "source": [
    "str3 = str1 + \" \" + str2\n",
    "str3"
   ]
  },
  {
   "cell_type": "markdown",
   "id": "0c3e416c",
   "metadata": {},
   "source": [
    "## String Formats"
   ]
  },
  {
   "cell_type": "code",
   "execution_count": 123,
   "id": "08928ca7",
   "metadata": {},
   "outputs": [],
   "source": [
    "#string formatting\n",
    "name = \"Ramana\"\n",
    "age = 22\n",
    "location = \"Nirmal\""
   ]
  },
  {
   "cell_type": "code",
   "execution_count": 124,
   "id": "bc24444d",
   "metadata": {},
   "outputs": [
    {
     "data": {
      "text/plain": [
       "'My name is Ramana and i am 22 years old and i am from Nirmal.'"
      ]
     },
     "execution_count": 124,
     "metadata": {},
     "output_type": "execute_result"
    }
   ],
   "source": [
    "# using % format\n",
    "str4 = \"My name is %s and i am %d years old and i am from %s.\"%(name,age,location)\n",
    "str4"
   ]
  },
  {
   "cell_type": "code",
   "execution_count": 125,
   "id": "9830621e",
   "metadata": {},
   "outputs": [
    {
     "data": {
      "text/plain": [
       "'My name is Ramana and i am 22 years old and i am from Nirmal.'"
      ]
     },
     "execution_count": 125,
     "metadata": {},
     "output_type": "execute_result"
    }
   ],
   "source": [
    "# using . foramt\n",
    "str5 = \"My name is {} and i am {} years old and i am from {}.\".format(name,age,location)\n",
    "str5"
   ]
  },
  {
   "cell_type": "code",
   "execution_count": 126,
   "id": "c5ed80f0",
   "metadata": {},
   "outputs": [
    {
     "data": {
      "text/plain": [
       "'My name is Ramana and i am 22 years old and i am from Nirmal.'"
      ]
     },
     "execution_count": 126,
     "metadata": {},
     "output_type": "execute_result"
    }
   ],
   "source": [
    "# using f-strings\n",
    "str6 = f\"My name is {name} and i am {age} years old and i am from {location}.\"\n",
    "str6"
   ]
  },
  {
   "cell_type": "markdown",
   "id": "44efc782",
   "metadata": {},
   "source": [
    "## Escape Characters "
   ]
  },
  {
   "cell_type": "markdown",
   "id": "914c85a2",
   "metadata": {},
   "source": [
    "Escape characters are used to include special characters within a string."
   ]
  },
  {
   "cell_type": "markdown",
   "id": "062cf94a",
   "metadata": {},
   "source": [
    "Common escape characters include \\n (newline), \\t (tab), \\\" (double quote), and \\' (single quote)."
   ]
  },
  {
   "cell_type": "code",
   "execution_count": 23,
   "id": "2b7cd6e4",
   "metadata": {},
   "outputs": [],
   "source": [
    "#escape characters\n",
    "Raina = \"Suresh Raina (born 27 November 1986) is an Indian former international cricketer.He occasionally served as stand-in captain for Indian men's national cricket team as well as in IPL for Chennai Super Kings during the absence of the main captain, MS Dhoni.\\nHe played for Uttar Pradesh (UP) in domestic cricket circuit.\\nHe is an aggressive left-handed middle-order batsman and an occasional off-spin bowler.He is the \\'second-youngest\\' player ever to captain India.\\tHe was the captain of Gujarat Lions in the Indian Premier League (IPL), and he also served as vice-captain of the Chennai Super Kings.\\nHe is the first Indian batsman to hit a century in \\'all three formats\\' of international cricket.\\tDuring his time with India, he won the \\'2011 Cricket World Cup\\' and the \\'2013 ICC Champions Trophy\\'.\\nRaina made history being the first Indian to score a century in the ICC Men's T20 World Cup, which he did with his \\'101 runs\\' against South Africa at the 2010 Tournament.\""
   ]
  },
  {
   "cell_type": "code",
   "execution_count": 24,
   "id": "3282a3e0",
   "metadata": {
    "scrolled": true
   },
   "outputs": [
    {
     "name": "stdout",
     "output_type": "stream",
     "text": [
      "Suresh Raina (born 27 November 1986) is an Indian former international cricketer.He occasionally served as stand-in captain for Indian men's national cricket team as well as in IPL for Chennai Super Kings during the absence of the main captain, MS Dhoni.\n",
      "He played for Uttar Pradesh (UP) in domestic cricket circuit.\n",
      "He is an aggressive left-handed middle-order batsman and an occasional off-spin bowler.He is the 'second-youngest' player ever to captain India.\tHe was the captain of Gujarat Lions in the Indian Premier League (IPL), and he also served as vice-captain of the Chennai Super Kings.\n",
      "He is the first Indian batsman to hit a century in 'all three formats' of international cricket.\tDuring his time with India, he won the '2011 Cricket World Cup' and the '2013 ICC Champions Trophy'.\n",
      "Raina made history being the first Indian to score a century in the ICC Men's T20 World Cup, which he did with his '101 runs' against South Africa at the 2010 Tournament.\n"
     ]
    }
   ],
   "source": [
    "print(Raina)"
   ]
  },
  {
   "cell_type": "code",
   "execution_count": 5,
   "id": "967df270",
   "metadata": {},
   "outputs": [],
   "source": [
    "#repetition\n",
    "str2 = \"i have 20 years of experience \" *4"
   ]
  },
  {
   "cell_type": "code",
   "execution_count": 6,
   "id": "0d8b981a",
   "metadata": {},
   "outputs": [
    {
     "data": {
      "text/plain": [
       "'i have 20 years of experience i have 20 years of experience i have 20 years of experience i have 20 years of experience '"
      ]
     },
     "execution_count": 6,
     "metadata": {},
     "output_type": "execute_result"
    }
   ],
   "source": [
    "str2"
   ]
  },
  {
   "cell_type": "code",
   "execution_count": 5,
   "id": "7f906b69",
   "metadata": {},
   "outputs": [],
   "source": [
    "str1 = \"my name is ramana reddy\""
   ]
  },
  {
   "cell_type": "code",
   "execution_count": 6,
   "id": "66590c19",
   "metadata": {},
   "outputs": [],
   "source": [
    "str2 = \"and i am 22 years old.\""
   ]
  },
  {
   "cell_type": "code",
   "execution_count": 9,
   "id": "a34f9161",
   "metadata": {},
   "outputs": [
    {
     "data": {
      "text/plain": [
       "'my name is ramana reddy and i am 22 years old.'"
      ]
     },
     "execution_count": 9,
     "metadata": {},
     "output_type": "execute_result"
    }
   ],
   "source": [
    "str3 = str1+\" \"+str2\n",
    "str3"
   ]
  },
  {
   "cell_type": "code",
   "execution_count": null,
   "id": "be3fe1fe",
   "metadata": {},
   "outputs": [],
   "source": []
  }
 ],
 "metadata": {
  "kernelspec": {
   "display_name": "Python 3 (ipykernel)",
   "language": "python",
   "name": "python3"
  },
  "language_info": {
   "codemirror_mode": {
    "name": "ipython",
    "version": 3
   },
   "file_extension": ".py",
   "mimetype": "text/x-python",
   "name": "python",
   "nbconvert_exporter": "python",
   "pygments_lexer": "ipython3",
   "version": "3.11.5"
  }
 },
 "nbformat": 4,
 "nbformat_minor": 5
}
