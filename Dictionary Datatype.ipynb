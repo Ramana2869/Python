{
 "cells": [
  {
   "cell_type": "markdown",
   "id": "52ef8a89",
   "metadata": {},
   "source": [
    "# Dictionary Datatype"
   ]
  },
  {
   "cell_type": "markdown",
   "id": "ac805d6e",
   "metadata": {},
   "source": [
    "A dictionary is a data structure that allows you to store and retrieve data in a key-value pair format."
   ]
  },
  {
   "cell_type": "markdown",
   "id": "7ff8c452",
   "metadata": {},
   "source": [
    "A dictionary is a collection which is ordered*, changeable and do not allow duplicates."
   ]
  },
  {
   "cell_type": "markdown",
   "id": "c6302203",
   "metadata": {},
   "source": [
    "Dictionaries are written with curly brackets, and have keys and values and each pair separated by colon."
   ]
  },
  {
   "cell_type": "markdown",
   "id": "f10dc7fc",
   "metadata": {},
   "source": [
    "Dictionaries are Mutable means we can modify dictionary"
   ]
  },
  {
   "cell_type": "code",
   "execution_count": null,
   "id": "a15b668a",
   "metadata": {},
   "outputs": [],
   "source": []
  },
  {
   "cell_type": "code",
   "execution_count": 5,
   "id": "966d05e8",
   "metadata": {},
   "outputs": [
    {
     "data": {
      "text/plain": [
       "{}"
      ]
     },
     "execution_count": 5,
     "metadata": {},
     "output_type": "execute_result"
    }
   ],
   "source": [
    "#creating empty dictionary\n",
    "dict1 = {}\n",
    "dict1"
   ]
  },
  {
   "cell_type": "code",
   "execution_count": 6,
   "id": "3d777115",
   "metadata": {},
   "outputs": [],
   "source": [
    "#creating 7 items in a dictionary\n",
    "dict2 = {'name':'ramana reddy','id no':2869,'age':22,'gender':'male','qualification':'B.sc','grade':'B','address':'nirmal'}"
   ]
  },
  {
   "cell_type": "code",
   "execution_count": 7,
   "id": "36e7bcf5",
   "metadata": {},
   "outputs": [
    {
     "name": "stdout",
     "output_type": "stream",
     "text": [
      "<class 'dict'>\n"
     ]
    }
   ],
   "source": [
    "print(type(dict2))"
   ]
  },
  {
   "cell_type": "code",
   "execution_count": 8,
   "id": "f7d4ec35",
   "metadata": {},
   "outputs": [
    {
     "data": {
      "text/plain": [
       "'ramana reddy'"
      ]
     },
     "execution_count": 8,
     "metadata": {},
     "output_type": "execute_result"
    }
   ],
   "source": [
    "#accessing each element\n",
    "dict2['name']"
   ]
  },
  {
   "cell_type": "code",
   "execution_count": 9,
   "id": "ea1fd776",
   "metadata": {},
   "outputs": [
    {
     "data": {
      "text/plain": [
       "2869"
      ]
     },
     "execution_count": 9,
     "metadata": {},
     "output_type": "execute_result"
    }
   ],
   "source": [
    "dict2['id no']"
   ]
  },
  {
   "cell_type": "code",
   "execution_count": 10,
   "id": "7b85cfc6",
   "metadata": {},
   "outputs": [
    {
     "data": {
      "text/plain": [
       "22"
      ]
     },
     "execution_count": 10,
     "metadata": {},
     "output_type": "execute_result"
    }
   ],
   "source": [
    "dict2['age']"
   ]
  },
  {
   "cell_type": "code",
   "execution_count": 11,
   "id": "514175f1",
   "metadata": {},
   "outputs": [
    {
     "data": {
      "text/plain": [
       "'male'"
      ]
     },
     "execution_count": 11,
     "metadata": {},
     "output_type": "execute_result"
    }
   ],
   "source": [
    "dict2['gender']"
   ]
  },
  {
   "cell_type": "code",
   "execution_count": 12,
   "id": "38e75173",
   "metadata": {},
   "outputs": [
    {
     "data": {
      "text/plain": [
       "'B.sc'"
      ]
     },
     "execution_count": 12,
     "metadata": {},
     "output_type": "execute_result"
    }
   ],
   "source": [
    "dict2['qualification']"
   ]
  },
  {
   "cell_type": "code",
   "execution_count": 13,
   "id": "96d6c7fd",
   "metadata": {},
   "outputs": [
    {
     "data": {
      "text/plain": [
       "'B'"
      ]
     },
     "execution_count": 13,
     "metadata": {},
     "output_type": "execute_result"
    }
   ],
   "source": [
    "dict2['grade']"
   ]
  },
  {
   "cell_type": "code",
   "execution_count": 14,
   "id": "f9e22db3",
   "metadata": {},
   "outputs": [
    {
     "data": {
      "text/plain": [
       "'nirmal'"
      ]
     },
     "execution_count": 14,
     "metadata": {},
     "output_type": "execute_result"
    }
   ],
   "source": [
    "dict2['address']"
   ]
  },
  {
   "cell_type": "code",
   "execution_count": 15,
   "id": "20389f4a",
   "metadata": {},
   "outputs": [
    {
     "data": {
      "text/plain": [
       "{'name': 'ramana reddy',\n",
       " 'id no': 2869,\n",
       " 'age': 20,\n",
       " 'gender': 'male',\n",
       " 'qualification': 'B.sc',\n",
       " 'grade': 'B',\n",
       " 'address': 'nirmal'}"
      ]
     },
     "execution_count": 15,
     "metadata": {},
     "output_type": "execute_result"
    }
   ],
   "source": [
    "#edit\n",
    "dict2['age']=20\n",
    "dict2"
   ]
  },
  {
   "cell_type": "code",
   "execution_count": 16,
   "id": "214ae8ee",
   "metadata": {},
   "outputs": [
    {
     "data": {
      "text/plain": [
       "{'name': 'ramana reddy',\n",
       " 'id no': 2869,\n",
       " 'age': 20,\n",
       " 'gender': 'male',\n",
       " 'qualification': 'B.sc',\n",
       " 'grade': 'B',\n",
       " 'address': 'nirmal',\n",
       " 'university': 'kakatiya university'}"
      ]
     },
     "execution_count": 16,
     "metadata": {},
     "output_type": "execute_result"
    }
   ],
   "source": [
    "#adding\n",
    "dict2['university']='kakatiya university'\n",
    "dict2"
   ]
  },
  {
   "cell_type": "code",
   "execution_count": null,
   "id": "716ffc67",
   "metadata": {},
   "outputs": [],
   "source": []
  },
  {
   "cell_type": "markdown",
   "id": "193fded6",
   "metadata": {},
   "source": [
    "## Dictionary Methods "
   ]
  },
  {
   "cell_type": "code",
   "execution_count": 18,
   "id": "c182a598",
   "metadata": {},
   "outputs": [],
   "source": [
    "dict2 = {'name':'ramana reddy','id no':2869,'age':22,'gender':'male','qualification':'B.sc','grade':'B','address':'nirmal'}"
   ]
  },
  {
   "cell_type": "code",
   "execution_count": null,
   "id": "511d468c",
   "metadata": {},
   "outputs": [],
   "source": []
  },
  {
   "cell_type": "code",
   "execution_count": 19,
   "id": "3f67c8c7",
   "metadata": {},
   "outputs": [
    {
     "data": {
      "text/plain": [
       "'B'"
      ]
     },
     "execution_count": 19,
     "metadata": {},
     "output_type": "execute_result"
    }
   ],
   "source": [
    "#get                # to get specified value by giving key name\n",
    "dict2.get('grade')"
   ]
  },
  {
   "cell_type": "code",
   "execution_count": 20,
   "id": "1ea10073",
   "metadata": {},
   "outputs": [
    {
     "data": {
      "text/plain": [
       "dict_keys(['name', 'id no', 'age', 'gender', 'qualification', 'grade', 'address'])"
      ]
     },
     "execution_count": 20,
     "metadata": {},
     "output_type": "execute_result"
    }
   ],
   "source": [
    "#keys               # it will give all key names\n",
    "dict2.keys()"
   ]
  },
  {
   "cell_type": "code",
   "execution_count": 21,
   "id": "d85cd3e9",
   "metadata": {},
   "outputs": [
    {
     "data": {
      "text/plain": [
       "dict_values(['ramana reddy', 2869, 22, 'male', 'B.sc', 'B', 'nirmal'])"
      ]
     },
     "execution_count": 21,
     "metadata": {},
     "output_type": "execute_result"
    }
   ],
   "source": [
    "#values             # it will give all value names\n",
    "dict2.values()"
   ]
  },
  {
   "cell_type": "code",
   "execution_count": 22,
   "id": "3ffcda4a",
   "metadata": {},
   "outputs": [
    {
     "data": {
      "text/plain": [
       "dict_items([('name', 'ramana reddy'), ('id no', 2869), ('age', 22), ('gender', 'male'), ('qualification', 'B.sc'), ('grade', 'B'), ('address', 'nirmal')])"
      ]
     },
     "execution_count": 22,
     "metadata": {},
     "output_type": "execute_result"
    }
   ],
   "source": [
    "#items              # it will give all key-value pairs\n",
    "dict2.items()"
   ]
  },
  {
   "cell_type": "code",
   "execution_count": 23,
   "id": "24dc3410",
   "metadata": {},
   "outputs": [
    {
     "data": {
      "text/plain": [
       "'B'"
      ]
     },
     "execution_count": 23,
     "metadata": {},
     "output_type": "execute_result"
    }
   ],
   "source": [
    "#pop                # it will delete particular value by giving key name\n",
    "dict2.pop('grade')"
   ]
  },
  {
   "cell_type": "code",
   "execution_count": 24,
   "id": "8d667292",
   "metadata": {},
   "outputs": [
    {
     "data": {
      "text/plain": [
       "('address', 'nirmal')"
      ]
     },
     "execution_count": 24,
     "metadata": {},
     "output_type": "execute_result"
    }
   ],
   "source": [
    "#popitem            # it will delete last key-value pair from dictionary\n",
    "dict2.popitem()"
   ]
  },
  {
   "cell_type": "code",
   "execution_count": 25,
   "id": "245051c8",
   "metadata": {},
   "outputs": [
    {
     "data": {
      "text/plain": [
       "{'name': 'ramana reddy',\n",
       " 'id no': 2869,\n",
       " 'age': 22,\n",
       " 'gender': 'male',\n",
       " 'qualification': 'B.sc',\n",
       " 'grade': 'B',\n",
       " 'email': 'kattaramanareddy3@gamil.com',\n",
       " 'address': 'nirmal',\n",
       " 'college': 'girraj college',\n",
       " 'university': 'kakatiya university'}"
      ]
     },
     "execution_count": 25,
     "metadata": {},
     "output_type": "execute_result"
    }
   ],
   "source": [
    "#update             # Updates the dictionary with elements from another dictionary or from an iterable of key-value pairs\n",
    "dict2.update({'grade':'B','email':'kattaramanareddy3@gamil.com','address':'nirmal','college':'girraj college','university':'kakatiya university',})\n",
    "dict2"
   ]
  },
  {
   "cell_type": "code",
   "execution_count": null,
   "id": "99dc3de8",
   "metadata": {},
   "outputs": [],
   "source": []
  },
  {
   "cell_type": "code",
   "execution_count": null,
   "id": "8a1e52d4",
   "metadata": {},
   "outputs": [],
   "source": []
  },
  {
   "cell_type": "code",
   "execution_count": null,
   "id": "07586208",
   "metadata": {},
   "outputs": [],
   "source": []
  },
  {
   "cell_type": "code",
   "execution_count": null,
   "id": "61b2bf01",
   "metadata": {},
   "outputs": [],
   "source": []
  },
  {
   "cell_type": "code",
   "execution_count": null,
   "id": "8ff3188e",
   "metadata": {},
   "outputs": [],
   "source": []
  },
  {
   "cell_type": "code",
   "execution_count": null,
   "id": "ae776010",
   "metadata": {},
   "outputs": [],
   "source": []
  },
  {
   "cell_type": "code",
   "execution_count": null,
   "id": "36164066",
   "metadata": {},
   "outputs": [],
   "source": []
  },
  {
   "cell_type": "code",
   "execution_count": null,
   "id": "47360a3a",
   "metadata": {},
   "outputs": [],
   "source": []
  },
  {
   "cell_type": "code",
   "execution_count": null,
   "id": "d149d095",
   "metadata": {},
   "outputs": [],
   "source": []
  },
  {
   "cell_type": "code",
   "execution_count": null,
   "id": "494cb876",
   "metadata": {},
   "outputs": [],
   "source": []
  },
  {
   "cell_type": "code",
   "execution_count": null,
   "id": "5e0fd2a4",
   "metadata": {},
   "outputs": [],
   "source": []
  },
  {
   "cell_type": "code",
   "execution_count": null,
   "id": "40501a6a",
   "metadata": {},
   "outputs": [],
   "source": []
  },
  {
   "cell_type": "code",
   "execution_count": null,
   "id": "08808748",
   "metadata": {},
   "outputs": [],
   "source": []
  }
 ],
 "metadata": {
  "kernelspec": {
   "display_name": "Python 3 (ipykernel)",
   "language": "python",
   "name": "python3"
  },
  "language_info": {
   "codemirror_mode": {
    "name": "ipython",
    "version": 3
   },
   "file_extension": ".py",
   "mimetype": "text/x-python",
   "name": "python",
   "nbconvert_exporter": "python",
   "pygments_lexer": "ipython3",
   "version": "3.11.5"
  }
 },
 "nbformat": 4,
 "nbformat_minor": 5
}
