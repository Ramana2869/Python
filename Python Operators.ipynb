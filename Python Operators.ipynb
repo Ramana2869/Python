{
 "cells": [
  {
   "cell_type": "markdown",
   "id": "31ecbe90",
   "metadata": {},
   "source": [
    "# Python Operators"
   ]
  },
  {
   "cell_type": "markdown",
   "id": "d7dce168",
   "metadata": {},
   "source": [
    "Operators are used to perform operations on variables and values."
   ]
  },
  {
   "cell_type": "markdown",
   "id": "2e1a978d",
   "metadata": {},
   "source": [
    "## Arithmetic Operators"
   ]
  },
  {
   "cell_type": "markdown",
   "id": "9226c60c",
   "metadata": {},
   "source": [
    "Arithmetic operators are used with numeric values to perform common mathematical operations."
   ]
  },
  {
   "cell_type": "code",
   "execution_count": 1,
   "id": "b329620a",
   "metadata": {},
   "outputs": [],
   "source": [
    "a = 28\n",
    "b = 5"
   ]
  },
  {
   "cell_type": "code",
   "execution_count": 2,
   "id": "c74cb641",
   "metadata": {},
   "outputs": [
    {
     "name": "stdout",
     "output_type": "stream",
     "text": [
      "33\n"
     ]
    }
   ],
   "source": [
    "# addition\n",
    "print(a+b)"
   ]
  },
  {
   "cell_type": "code",
   "execution_count": 3,
   "id": "66b894d6",
   "metadata": {},
   "outputs": [
    {
     "name": "stdout",
     "output_type": "stream",
     "text": [
      "23\n"
     ]
    }
   ],
   "source": [
    "#subtraction\n",
    "print(a-b)"
   ]
  },
  {
   "cell_type": "code",
   "execution_count": 4,
   "id": "5f450b10",
   "metadata": {},
   "outputs": [
    {
     "name": "stdout",
     "output_type": "stream",
     "text": [
      "140\n"
     ]
    }
   ],
   "source": [
    "# multiplication\n",
    "print(a*b)"
   ]
  },
  {
   "cell_type": "code",
   "execution_count": 6,
   "id": "ab0a0bd4",
   "metadata": {},
   "outputs": [
    {
     "name": "stdout",
     "output_type": "stream",
     "text": [
      "5.6\n"
     ]
    }
   ],
   "source": [
    "# division       # it returns quotient\n",
    "print(a/b)        "
   ]
  },
  {
   "cell_type": "code",
   "execution_count": 7,
   "id": "6e0d5a89",
   "metadata": {},
   "outputs": [
    {
     "name": "stdout",
     "output_type": "stream",
     "text": [
      "3\n"
     ]
    }
   ],
   "source": [
    "# modulus        # it returns remainder\n",
    "print(a%b)"
   ]
  },
  {
   "cell_type": "code",
   "execution_count": 8,
   "id": "6be0c495",
   "metadata": {},
   "outputs": [
    {
     "name": "stdout",
     "output_type": "stream",
     "text": [
      "17210368\n"
     ]
    }
   ],
   "source": [
    "# exponentiation\n",
    "print(a**b)"
   ]
  },
  {
   "cell_type": "code",
   "execution_count": 9,
   "id": "7ec610d1",
   "metadata": {},
   "outputs": [
    {
     "name": "stdout",
     "output_type": "stream",
     "text": [
      "5\n"
     ]
    }
   ],
   "source": [
    "# floor Division     # it returns quotient with int value\n",
    "print(a//b)"
   ]
  },
  {
   "cell_type": "markdown",
   "id": "53887bfb",
   "metadata": {},
   "source": [
    "## Assignment Operators"
   ]
  },
  {
   "cell_type": "markdown",
   "id": "05927249",
   "metadata": {},
   "source": [
    "Assignment operators are used to assign values to variables."
   ]
  },
  {
   "cell_type": "code",
   "execution_count": 21,
   "id": "bcf10558",
   "metadata": {},
   "outputs": [],
   "source": [
    "# assignment operator\n",
    "a = 28\n",
    "b = 5"
   ]
  },
  {
   "cell_type": "code",
   "execution_count": 22,
   "id": "b1549c1e",
   "metadata": {},
   "outputs": [
    {
     "name": "stdout",
     "output_type": "stream",
     "text": [
      "33\n"
     ]
    }
   ],
   "source": [
    "# addition assignment\n",
    "a += b\n",
    "\n",
    "print(a)"
   ]
  },
  {
   "cell_type": "code",
   "execution_count": 23,
   "id": "1308231a",
   "metadata": {},
   "outputs": [
    {
     "name": "stdout",
     "output_type": "stream",
     "text": [
      "28\n"
     ]
    }
   ],
   "source": [
    "# subtraction assignment\n",
    "a -= b\n",
    "\n",
    "print(a)"
   ]
  },
  {
   "cell_type": "code",
   "execution_count": 24,
   "id": "32e78b16",
   "metadata": {},
   "outputs": [
    {
     "name": "stdout",
     "output_type": "stream",
     "text": [
      "140\n"
     ]
    }
   ],
   "source": [
    "# multiplication assignment\n",
    "a *= b\n",
    "\n",
    "print(a)"
   ]
  },
  {
   "cell_type": "code",
   "execution_count": 25,
   "id": "ae8a4d42",
   "metadata": {},
   "outputs": [
    {
     "name": "stdout",
     "output_type": "stream",
     "text": [
      "28.0\n"
     ]
    }
   ],
   "source": [
    "# division assignment\n",
    "a /= b\n",
    "\n",
    "print(a)"
   ]
  },
  {
   "cell_type": "code",
   "execution_count": 26,
   "id": "108e3786",
   "metadata": {},
   "outputs": [
    {
     "name": "stdout",
     "output_type": "stream",
     "text": [
      "3.0\n"
     ]
    }
   ],
   "source": [
    "# remainder assignment\n",
    "a %= b\n",
    "\n",
    "print(a)"
   ]
  },
  {
   "cell_type": "code",
   "execution_count": 27,
   "id": "b1526241",
   "metadata": {},
   "outputs": [
    {
     "name": "stdout",
     "output_type": "stream",
     "text": [
      "243.0\n"
     ]
    }
   ],
   "source": [
    "# exponent assignment\n",
    "a **= b\n",
    "\n",
    "print(a)"
   ]
  },
  {
   "cell_type": "markdown",
   "id": "9d400c97",
   "metadata": {},
   "source": [
    "## Comparison Operators"
   ]
  },
  {
   "cell_type": "markdown",
   "id": "f8f812c0",
   "metadata": {},
   "source": [
    "Comparison operators are used to compare two values."
   ]
  },
  {
   "cell_type": "markdown",
   "id": "aebe3b9d",
   "metadata": {},
   "source": [
    "Comparison operators compare two values/variables and return a boolean result: True or False."
   ]
  },
  {
   "cell_type": "code",
   "execution_count": 29,
   "id": "217f5f4c",
   "metadata": {},
   "outputs": [],
   "source": [
    "a = 18\n",
    "b = 15"
   ]
  },
  {
   "cell_type": "code",
   "execution_count": 30,
   "id": "f59072c1",
   "metadata": {},
   "outputs": [
    {
     "name": "stdout",
     "output_type": "stream",
     "text": [
      "False\n"
     ]
    }
   ],
   "source": [
    "# equal to\n",
    "print(a == b)"
   ]
  },
  {
   "cell_type": "code",
   "execution_count": 31,
   "id": "451a0abb",
   "metadata": {},
   "outputs": [
    {
     "name": "stdout",
     "output_type": "stream",
     "text": [
      "True\n"
     ]
    }
   ],
   "source": [
    "# not equal to\n",
    "print(a != b)"
   ]
  },
  {
   "cell_type": "code",
   "execution_count": 32,
   "id": "edf441f1",
   "metadata": {},
   "outputs": [
    {
     "name": "stdout",
     "output_type": "stream",
     "text": [
      "True\n"
     ]
    }
   ],
   "source": [
    "# greater than\n",
    "print(a > b)"
   ]
  },
  {
   "cell_type": "code",
   "execution_count": 33,
   "id": "a9b6bbc0",
   "metadata": {},
   "outputs": [
    {
     "name": "stdout",
     "output_type": "stream",
     "text": [
      "False\n"
     ]
    }
   ],
   "source": [
    "# less than\n",
    "print(a < b)"
   ]
  },
  {
   "cell_type": "code",
   "execution_count": 34,
   "id": "2ff4ded1",
   "metadata": {},
   "outputs": [
    {
     "name": "stdout",
     "output_type": "stream",
     "text": [
      "True\n"
     ]
    }
   ],
   "source": [
    "# greater than or equal to\n",
    "print(a >= b)"
   ]
  },
  {
   "cell_type": "code",
   "execution_count": 35,
   "id": "1f7c6810",
   "metadata": {},
   "outputs": [
    {
     "name": "stdout",
     "output_type": "stream",
     "text": [
      "False\n"
     ]
    }
   ],
   "source": [
    "# less than Or equal to\n",
    "print(a <= b)"
   ]
  },
  {
   "cell_type": "markdown",
   "id": "b67d59a1",
   "metadata": {},
   "source": [
    "## Logical Operators "
   ]
  },
  {
   "cell_type": "markdown",
   "id": "91dc4379",
   "metadata": {},
   "source": [
    "Logical operators are used to check whether an expression is True or False."
   ]
  },
  {
   "cell_type": "markdown",
   "id": "55f966b7",
   "metadata": {},
   "source": [
    "Python logical operators are used to combile two or more conditions and check the final result."
   ]
  },
  {
   "cell_type": "code",
   "execution_count": 36,
   "id": "eb96380b",
   "metadata": {},
   "outputs": [
    {
     "name": "stdout",
     "output_type": "stream",
     "text": [
      "True\n"
     ]
    }
   ],
   "source": [
    "# and operator     # returns true if the both the operands are true\n",
    "a = 3\n",
    "\n",
    "print(a>1 and a<5)"
   ]
  },
  {
   "cell_type": "code",
   "execution_count": 37,
   "id": "466ba9bd",
   "metadata": {},
   "outputs": [
    {
     "name": "stdout",
     "output_type": "stream",
     "text": [
      "True\n"
     ]
    }
   ],
   "source": [
    "# or operator      # returns true if either of the operand is true\n",
    "a = 3\n",
    "\n",
    "print(a>1 or a<2)"
   ]
  },
  {
   "cell_type": "code",
   "execution_count": 38,
   "id": "869fcb10",
   "metadata": {},
   "outputs": [
    {
     "name": "stdout",
     "output_type": "stream",
     "text": [
      "False\n"
     ]
    }
   ],
   "source": [
    "# not operator     # returns true if the operand is false\n",
    "a = 3\n",
    "\n",
    "print(not(a>1 and a<5))"
   ]
  },
  {
   "cell_type": "markdown",
   "id": "b197f0f1",
   "metadata": {},
   "source": [
    "## Identity Operators"
   ]
  },
  {
   "cell_type": "markdown",
   "id": "18c40fc8",
   "metadata": {},
   "source": [
    "Identity whether the value is present or not."
   ]
  },
  {
   "cell_type": "markdown",
   "id": "15db66c7",
   "metadata": {},
   "source": [
    "Identity operators are used to compare the objects, not if they are equal, but if they are actually the same object, with the same memory location."
   ]
  },
  {
   "cell_type": "code",
   "execution_count": 47,
   "id": "af84d3fd",
   "metadata": {},
   "outputs": [],
   "source": [
    "a = 3\n",
    "b = 3\n",
    "c ='ramana'\n",
    "d ='ramana'\n",
    "e ='python'"
   ]
  },
  {
   "cell_type": "code",
   "execution_count": 48,
   "id": "89fca704",
   "metadata": {},
   "outputs": [
    {
     "name": "stdout",
     "output_type": "stream",
     "text": [
      "True\n"
     ]
    }
   ],
   "source": [
    "# is operator          # returns True if both variables are the same object\n",
    "print(a is b)"
   ]
  },
  {
   "cell_type": "code",
   "execution_count": 49,
   "id": "91983569",
   "metadata": {},
   "outputs": [
    {
     "name": "stdout",
     "output_type": "stream",
     "text": [
      "False\n"
     ]
    }
   ],
   "source": [
    "# is not operator      # returns True if both variables are not the same object\n",
    "print(c is not d)"
   ]
  },
  {
   "cell_type": "markdown",
   "id": "0bf4a9d7",
   "metadata": {},
   "source": [
    "## Membership Operators "
   ]
  },
  {
   "cell_type": "markdown",
   "id": "71d4fe34",
   "metadata": {},
   "source": [
    "Membership operators are used to test if a sequence is presented in an object."
   ]
  },
  {
   "cell_type": "code",
   "execution_count": 51,
   "id": "5974cbd0",
   "metadata": {},
   "outputs": [],
   "source": [
    "a = 'hello,python'\n",
    "b = 2869"
   ]
  },
  {
   "cell_type": "code",
   "execution_count": 52,
   "id": "2c1d0e62",
   "metadata": {},
   "outputs": [
    {
     "name": "stdout",
     "output_type": "stream",
     "text": [
      "True\n"
     ]
    }
   ],
   "source": [
    "# in operator             # returns True if a sequence with the specified value is present in the object\n",
    "print('llo' in a)"
   ]
  },
  {
   "cell_type": "code",
   "execution_count": 53,
   "id": "ebafdb45",
   "metadata": {},
   "outputs": [
    {
     "name": "stdout",
     "output_type": "stream",
     "text": [
      "False\n"
     ]
    }
   ],
   "source": [
    "# not in operator         # returns True if a sequence with the specified value is not present in the object\n",
    "print('llo' not in a)"
   ]
  },
  {
   "cell_type": "markdown",
   "id": "2e61983c",
   "metadata": {},
   "source": [
    "## Bitwise Operators"
   ]
  },
  {
   "cell_type": "markdown",
   "id": "5226c295",
   "metadata": {},
   "source": [
    "Bitwise operators act on operands as if they were strings of binary digits. They operate bit by bit."
   ]
  },
  {
   "cell_type": "markdown",
   "id": "cf7dd39b",
   "metadata": {},
   "source": [
    "Bitwise operators are used to compare (binary) numbers."
   ]
  },
  {
   "cell_type": "code",
   "execution_count": 55,
   "id": "46a40e0a",
   "metadata": {},
   "outputs": [],
   "source": [
    "#   &       AND      Sets each bit to 1 if both bits are 1"
   ]
  },
  {
   "cell_type": "code",
   "execution_count": 56,
   "id": "189ba62b",
   "metadata": {},
   "outputs": [],
   "source": [
    "#   |       OR       Sets each bit to 1 if one of two bits is 1"
   ]
  },
  {
   "cell_type": "code",
   "execution_count": 57,
   "id": "25a5627a",
   "metadata": {},
   "outputs": [],
   "source": [
    "#   ^       XOR       Sets each bit to 1 if only one of two bits is 1"
   ]
  },
  {
   "cell_type": "code",
   "execution_count": 58,
   "id": "0be90c15",
   "metadata": {},
   "outputs": [],
   "source": [
    "#   ~       NOT       Inverts all the bits"
   ]
  },
  {
   "cell_type": "code",
   "execution_count": 59,
   "id": "1a674a9e",
   "metadata": {},
   "outputs": [],
   "source": [
    "#   <<     Zero fill left shift        Shift left by pushing zeros in from the right and let the leftmost bits fall off"
   ]
  },
  {
   "cell_type": "code",
   "execution_count": 60,
   "id": "5e31b524",
   "metadata": {},
   "outputs": [],
   "source": [
    "#   >>     Signed right shift          Shift right by pushing copies of the leftmost bit in from the left, and let the rightmost bits fall off"
   ]
  }
 ],
 "metadata": {
  "kernelspec": {
   "display_name": "Python 3 (ipykernel)",
   "language": "python",
   "name": "python3"
  },
  "language_info": {
   "codemirror_mode": {
    "name": "ipython",
    "version": 3
   },
   "file_extension": ".py",
   "mimetype": "text/x-python",
   "name": "python",
   "nbconvert_exporter": "python",
   "pygments_lexer": "ipython3",
   "version": "3.11.5"
  }
 },
 "nbformat": 4,
 "nbformat_minor": 5
}
