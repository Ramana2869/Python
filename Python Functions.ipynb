{
 "cells": [
  {
   "cell_type": "markdown",
   "id": "b7130a95",
   "metadata": {},
   "source": [
    "# Python Functions"
   ]
  },
  {
   "cell_type": "markdown",
   "id": "51c6a29b",
   "metadata": {},
   "source": [
    "A function is a block of code that performs a specific task."
   ]
  },
  {
   "cell_type": "markdown",
   "id": "6ac1b8c3",
   "metadata": {},
   "source": [
    "You can pass data, known as parameters, into a function."
   ]
  },
  {
   "cell_type": "markdown",
   "id": "d8da9ef4",
   "metadata": {},
   "source": [
    "A function can return data as a result."
   ]
  },
  {
   "cell_type": "markdown",
   "id": "44aadb2c",
   "metadata": {},
   "source": [
    "Types of function"
   ]
  },
  {
   "cell_type": "markdown",
   "id": "00d67c84",
   "metadata": {},
   "source": [
    "There are two types of function in Python programming:"
   ]
  },
  {
   "cell_type": "markdown",
   "id": "55c59422",
   "metadata": {},
   "source": [
    "Standard library functions - These are built-in functions in Python that are available to use."
   ]
  },
  {
   "cell_type": "markdown",
   "id": "9aad501d",
   "metadata": {},
   "source": [
    "User-defined functions - We can create our own functions based on our requirements."
   ]
  },
  {
   "cell_type": "markdown",
   "id": "3fb432bd",
   "metadata": {},
   "source": [
    "The syntax to declare a function is:"
   ]
  },
  {
   "cell_type": "code",
   "execution_count": 2,
   "id": "ad03a92a",
   "metadata": {},
   "outputs": [],
   "source": [
    "def function_name(arguments):\n",
    "    \n",
    "        # function body \n",
    "        \n",
    "    return"
   ]
  },
  {
   "cell_type": "code",
   "execution_count": 1,
   "id": "05e52e3f",
   "metadata": {},
   "outputs": [],
   "source": [
    "# creating a function\n",
    "\n",
    "def student():\n",
    "    \n",
    "    print(student)"
   ]
  },
  {
   "cell_type": "code",
   "execution_count": 8,
   "id": "30e9bab3",
   "metadata": {},
   "outputs": [
    {
     "name": "stdout",
     "output_type": "stream",
     "text": [
      "Your name is Bravo and you are 12 standard.\n"
     ]
    }
   ],
   "source": [
    "# calling the function\n",
    "\n",
    "def student(name,standard):\n",
    "    \n",
    "    print(f\"Your name is {name} and you are {standard} standard.\")\n",
    "    \n",
    "student('Bravo',12)"
   ]
  },
  {
   "cell_type": "code",
   "execution_count": 31,
   "id": "67b1f00c",
   "metadata": {},
   "outputs": [
    {
     "data": {
      "text/plain": [
       "41"
      ]
     },
     "execution_count": 31,
     "metadata": {},
     "output_type": "execute_result"
    }
   ],
   "source": [
    "# substraction of numbers using function and return\n",
    "\n",
    "def numbers(num1,num2):\n",
    "    \n",
    "    result = num2 - num1\n",
    "    \n",
    "    return result\n",
    "\n",
    "numbers(28,69)"
   ]
  },
  {
   "cell_type": "code",
   "execution_count": 32,
   "id": "dc2d74b3",
   "metadata": {},
   "outputs": [
    {
     "name": "stdout",
     "output_type": "stream",
     "text": [
      "32\n"
     ]
    }
   ],
   "source": [
    "# finding power of numbers using function\n",
    "\n",
    "def numbers(num1,num2):\n",
    "    \n",
    "    result = num1 ** num2\n",
    "    \n",
    "    print(result)\n",
    "    \n",
    "numbers(2,5)\n",
    "    "
   ]
  },
  {
   "cell_type": "code",
   "execution_count": 3,
   "id": "47c931c0",
   "metadata": {},
   "outputs": [
    {
     "name": "stdout",
     "output_type": "stream",
     "text": [
      "3456\n"
     ]
    }
   ],
   "source": [
    "# multiplying 5 elements using *args\n",
    "\n",
    "def multi_of_numbers(*args):\n",
    "    \n",
    "    result = 1\n",
    "    \n",
    "    for num in args:\n",
    "        \n",
    "        result *=num\n",
    "        \n",
    "    return result\n",
    "    \n",
    "print(multi_of_numbers(2,8,6,9,4))"
   ]
  },
  {
   "cell_type": "markdown",
   "id": "093fdfa8",
   "metadata": {},
   "source": [
    "# Python Lambda"
   ]
  },
  {
   "cell_type": "markdown",
   "id": "605a61cf",
   "metadata": {},
   "source": [
    "A lambda function is a small anonymous function."
   ]
  },
  {
   "cell_type": "markdown",
   "id": "56fa3994",
   "metadata": {},
   "source": [
    "A lambda function can take any number of arguments, but can only have one expression."
   ]
  },
  {
   "cell_type": "markdown",
   "id": "92916e46",
   "metadata": {},
   "source": [
    "Syntax:"
   ]
  },
  {
   "cell_type": "markdown",
   "id": "7a10d27d",
   "metadata": {},
   "source": [
    "lambda arguments : expression"
   ]
  },
  {
   "cell_type": "code",
   "execution_count": 63,
   "id": "c2f9a771",
   "metadata": {},
   "outputs": [
    {
     "name": "stdout",
     "output_type": "stream",
     "text": [
      "25\n"
     ]
    }
   ],
   "source": [
    "# lambda function\n",
    "\n",
    "square = lambda n : n**2\n",
    "\n",
    "print(square(5))"
   ]
  },
  {
   "cell_type": "code",
   "execution_count": 77,
   "id": "e41a5024",
   "metadata": {},
   "outputs": [
    {
     "name": "stdout",
     "output_type": "stream",
     "text": [
      "[1, 8, 27, 64, 125, 216, 343, 512, 729, 1000]\n"
     ]
    }
   ],
   "source": [
    "# lambda function and using map()\n",
    "\n",
    "lst1 = [1,2,3,4,5,6,7,8,9,10]\n",
    "\n",
    "cubed_numbers = map(lambda x : x ** 3,lst1)\n",
    "\n",
    "print(list(cubed_numbers))"
   ]
  },
  {
   "cell_type": "code",
   "execution_count": 79,
   "id": "916e2581",
   "metadata": {},
   "outputs": [
    {
     "name": "stdout",
     "output_type": "stream",
     "text": [
      "[1, 2, 4, 5, 7, 8, 10, 11, 13, 14, 16, 17, 19, 20]\n"
     ]
    }
   ],
   "source": [
    "#lambda function and using filter()\n",
    "\n",
    "numbers = [1,2,3,4,5,6,7,8,9,10,11,12,13,14,15,16,17,18,19,20]\n",
    "\n",
    "not_multiples_of_3 = filter(lambda x : x % 3 != 0,numbers)\n",
    "\n",
    "print(list(not_multiples_of_3))"
   ]
  },
  {
   "cell_type": "code",
   "execution_count": 4,
   "id": "7208b6b3",
   "metadata": {},
   "outputs": [
    {
     "name": "stdout",
     "output_type": "stream",
     "text": [
      "i am ramanareddy and i am learning data science in teks academy.\n"
     ]
    }
   ],
   "source": [
    "# local and global variables\n",
    "\n",
    "# local variables\n",
    "\n",
    "def n():\n",
    "    \n",
    "    x = \"i am ramanareddy and i am learning data science in teks academy.\"\n",
    "    \n",
    "    print(x)\n",
    "\n",
    "n()"
   ]
  },
  {
   "cell_type": "code",
   "execution_count": 81,
   "id": "c96790ec",
   "metadata": {},
   "outputs": [
    {
     "name": "stdout",
     "output_type": "stream",
     "text": [
      "i am ramanareddy and i am learning data science in teks academy.\n",
      "i am ramanareddy and i am learning data science in teks academy.\n"
     ]
    }
   ],
   "source": [
    "# global variables\n",
    "\n",
    "x = \"i am ramanareddy and i am learning data science in teks academy.\"\n",
    "\n",
    "def n():\n",
    "    \n",
    "    \n",
    "    print(x)\n",
    "    \n",
    "n()\n",
    "\n",
    "print(x)\n"
   ]
  },
  {
   "cell_type": "code",
   "execution_count": 2,
   "id": "04d32d8a",
   "metadata": {},
   "outputs": [
    {
     "data": {
      "text/plain": [
       "5670"
      ]
     },
     "execution_count": 2,
     "metadata": {},
     "output_type": "execute_result"
    }
   ],
   "source": [
    "# multiplication of multiple numbers using *args\n",
    "\n",
    "def multiply(*args):\n",
    "    \n",
    "    result = 1\n",
    "    \n",
    "    for num in args:\n",
    "        \n",
    "        result *= num\n",
    "        \n",
    "    return result\n",
    "\n",
    "multiply(3,6,9,5,7)"
   ]
  },
  {
   "cell_type": "code",
   "execution_count": 4,
   "id": "961c8212",
   "metadata": {},
   "outputs": [
    {
     "data": {
      "text/plain": [
       "30"
      ]
     },
     "execution_count": 4,
     "metadata": {},
     "output_type": "execute_result"
    }
   ],
   "source": [
    "# addition of multiple numbers using *args\n",
    "\n",
    "def adding(*args):\n",
    "    \n",
    "    result = 0\n",
    "    \n",
    "    for num in args:\n",
    "        \n",
    "        result += num\n",
    "        \n",
    "    return result\n",
    "\n",
    "adding(2,8,6,9,5)"
   ]
  },
  {
   "cell_type": "code",
   "execution_count": null,
   "id": "49b9a8e8",
   "metadata": {},
   "outputs": [],
   "source": []
  }
 ],
 "metadata": {
  "kernelspec": {
   "display_name": "Python 3 (ipykernel)",
   "language": "python",
   "name": "python3"
  },
  "language_info": {
   "codemirror_mode": {
    "name": "ipython",
    "version": 3
   },
   "file_extension": ".py",
   "mimetype": "text/x-python",
   "name": "python",
   "nbconvert_exporter": "python",
   "pygments_lexer": "ipython3",
   "version": "3.11.5"
  }
 },
 "nbformat": 4,
 "nbformat_minor": 5
}
