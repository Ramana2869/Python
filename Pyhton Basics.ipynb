{
 "cells": [
  {
   "cell_type": "markdown",
   "id": "9f23d407",
   "metadata": {},
   "source": [
    "# Python Basics"
   ]
  },
  {
   "cell_type": "markdown",
   "id": "897f0786",
   "metadata": {},
   "source": [
    "## What is python ?"
   ]
  },
  {
   "cell_type": "markdown",
   "id": "75c990ed",
   "metadata": {},
   "source": [
    "Python is an interpreted,object-oriented and high level programming language."
   ]
  },
  {
   "cell_type": "markdown",
   "id": "36b8aac9",
   "metadata": {},
   "source": [
    "It was created by Guido van Rossum, and released in 1991."
   ]
  },
  {
   "cell_type": "markdown",
   "id": "afdf6370",
   "metadata": {},
   "source": [
    "## Why to Learn Python?"
   ]
  },
  {
   "cell_type": "markdown",
   "id": "c8e3ee33",
   "metadata": {},
   "source": [
    "Python has a simple syntax similar to the English language."
   ]
  },
  {
   "cell_type": "markdown",
   "id": "024ec011",
   "metadata": {},
   "source": [
    " Python is Open Source which means its available free of cost. "
   ]
  },
  {
   "cell_type": "markdown",
   "id": "927d1079",
   "metadata": {},
   "source": [
    "Python is simple and so easy to learn. "
   ]
  },
  {
   "cell_type": "markdown",
   "id": "16d15b11",
   "metadata": {},
   "source": [
    " Python has powerful development libraries include AI, ML etc."
   ]
  },
  {
   "cell_type": "markdown",
   "id": "2b6e7385",
   "metadata": {},
   "source": [
    "Python is much in demand and ensures high salary."
   ]
  },
  {
   "cell_type": "markdown",
   "id": "a0d931b9",
   "metadata": {},
   "source": [
    "## Applications Of Python"
   ]
  },
  {
   "cell_type": "markdown",
   "id": "12d0b8c4",
   "metadata": {},
   "source": [
    "Web Development"
   ]
  },
  {
   "cell_type": "markdown",
   "id": "6252aaf6",
   "metadata": {},
   "source": [
    "Game Development"
   ]
  },
  {
   "cell_type": "markdown",
   "id": "206ca714",
   "metadata": {},
   "source": [
    "Desktop GUI Development"
   ]
  },
  {
   "cell_type": "markdown",
   "id": "ff0ea829",
   "metadata": {},
   "source": [
    "Artificial Intelligence and Machine Learning"
   ]
  },
  {
   "cell_type": "markdown",
   "id": "3ba27dd2",
   "metadata": {},
   "source": [
    "Business Applications"
   ]
  },
  {
   "cell_type": "markdown",
   "id": "dcb78060",
   "metadata": {},
   "source": [
    "## Python Interpreter  "
   ]
  },
  {
   "cell_type": "markdown",
   "id": "acf801c9",
   "metadata": {},
   "source": [
    "Python is an interpreter that can be used to execute the python code."
   ]
  },
  {
   "cell_type": "markdown",
   "id": "de48ed00",
   "metadata": {},
   "source": [
    "Python is an interpreted language."
   ]
  },
  {
   "cell_type": "markdown",
   "id": "a9e69eb3",
   "metadata": {},
   "source": [
    "## Python Compiler"
   ]
  },
  {
   "cell_type": "markdown",
   "id": "a47fa333",
   "metadata": {},
   "source": [
    "A compiler is computer software that converts code written in one programming languageinto another."
   ]
  },
  {
   "cell_type": "markdown",
   "id": "49c00781",
   "metadata": {},
   "source": [
    "## Python First Program"
   ]
  },
  {
   "cell_type": "code",
   "execution_count": 3,
   "id": "cb6e12f7",
   "metadata": {},
   "outputs": [
    {
     "name": "stdout",
     "output_type": "stream",
     "text": [
      "Hello,World\n"
     ]
    }
   ],
   "source": [
    "print(\"Hello,World\")"
   ]
  },
  {
   "cell_type": "markdown",
   "id": "94626d21",
   "metadata": {},
   "source": [
    "## Python Indentation"
   ]
  },
  {
   "cell_type": "markdown",
   "id": "95dc913a",
   "metadata": {},
   "source": [
    "Indentation refers to the spaces at the beginning of a code line."
   ]
  },
  {
   "cell_type": "markdown",
   "id": "ab4fc23a",
   "metadata": {},
   "source": [
    " Python uses indentation to indicate a block of code."
   ]
  },
  {
   "cell_type": "code",
   "execution_count": 4,
   "id": "26b5278e",
   "metadata": {},
   "outputs": [
    {
     "name": "stdout",
     "output_type": "stream",
     "text": [
      "5 is less than 10\n"
     ]
    }
   ],
   "source": [
    "# with indentation \n",
    "\n",
    "if 5<10:\n",
    "    print(\"5 is less than 10\")"
   ]
  },
  {
   "cell_type": "code",
   "execution_count": 8,
   "id": "00f2aab8",
   "metadata": {},
   "outputs": [
    {
     "ename": "IndentationError",
     "evalue": "expected an indented block after 'if' statement on line 3 (3201379582.py, line 4)",
     "output_type": "error",
     "traceback": [
      "\u001b[1;36m  Cell \u001b[1;32mIn[8], line 4\u001b[1;36m\u001b[0m\n\u001b[1;33m    print(\"5 is less than 10\")   # it will give indentation error.\u001b[0m\n\u001b[1;37m    ^\u001b[0m\n\u001b[1;31mIndentationError\u001b[0m\u001b[1;31m:\u001b[0m expected an indented block after 'if' statement on line 3\n"
     ]
    }
   ],
   "source": [
    "# without indentation\n",
    "\n",
    "if 5<10:\n",
    "print(\"5 is less than 10\")   # it will give indentation error."
   ]
  },
  {
   "cell_type": "markdown",
   "id": "b8e14a24",
   "metadata": {},
   "source": [
    "## Python Comments "
   ]
  },
  {
   "cell_type": "markdown",
   "id": "2d3d8cc3",
   "metadata": {},
   "source": [
    "Comments can be used to explain Python code."
   ]
  },
  {
   "cell_type": "markdown",
   "id": "ae8d27d5",
   "metadata": {},
   "source": [
    "Comments can be used to make the code more readable."
   ]
  },
  {
   "cell_type": "markdown",
   "id": "b630fdc9",
   "metadata": {},
   "source": [
    "Comments can be used to prevent execution when testing code."
   ]
  },
  {
   "cell_type": "markdown",
   "id": "7906da02",
   "metadata": {},
   "source": [
    "Comments starts with a #, and Python will ignore them:"
   ]
  },
  {
   "cell_type": "code",
   "execution_count": 9,
   "id": "cce6b7d4",
   "metadata": {},
   "outputs": [
    {
     "name": "stdout",
     "output_type": "stream",
     "text": [
      "Ramana Reddy\n"
     ]
    }
   ],
   "source": [
    "# This is a comment\n",
    "\n",
    "print('Ramana Reddy')"
   ]
  },
  {
   "cell_type": "code",
   "execution_count": 10,
   "id": "39b48c7c",
   "metadata": {},
   "outputs": [
    {
     "name": "stdout",
     "output_type": "stream",
     "text": [
      "Ramana Reddy\n"
     ]
    }
   ],
   "source": [
    "print('Ramana Reddy') # This is a comment"
   ]
  },
  {
   "cell_type": "markdown",
   "id": "9d195748",
   "metadata": {},
   "source": [
    "## Multiline comments"
   ]
  },
  {
   "cell_type": "markdown",
   "id": "2542cd53",
   "metadata": {},
   "source": [
    "Python does not really have a syntax for multiline comments."
   ]
  },
  {
   "cell_type": "markdown",
   "id": "5647c76f",
   "metadata": {},
   "source": [
    "To add a multiline comment you could insert a # for each line."
   ]
  },
  {
   "cell_type": "code",
   "execution_count": 11,
   "id": "5705f0bc",
   "metadata": {},
   "outputs": [
    {
     "name": "stdout",
     "output_type": "stream",
     "text": [
      "Ramana Reddy\n"
     ]
    }
   ],
   "source": [
    "# This is a comment \n",
    "# To print My name \n",
    "# It is a multi-line comment\n",
    "\n",
    "print('Ramana Reddy')"
   ]
  },
  {
   "cell_type": "markdown",
   "id": "233261d3",
   "metadata": {},
   "source": [
    "## Python Keywords "
   ]
  },
  {
   "cell_type": "markdown",
   "id": "b5ddae25",
   "metadata": {},
   "source": [
    "Python keywords are Reserved Words."
   ]
  },
  {
   "cell_type": "markdown",
   "id": "c54683ed",
   "metadata": {},
   "source": [
    "You cannot use them as constant or variable or any other identifier names."
   ]
  },
  {
   "cell_type": "markdown",
   "id": "c1645f5d",
   "metadata": {},
   "source": [
    "All the Python keywords contain lowercase letters"
   ]
  },
  {
   "cell_type": "code",
   "execution_count": 15,
   "id": "cbc4c47e",
   "metadata": {},
   "outputs": [
    {
     "name": "stdout",
     "output_type": "stream",
     "text": [
      "['False', 'None', 'True', 'and', 'as', 'assert', 'async', 'await', 'break', 'class', 'continue', 'def', 'del', 'elif', 'else', 'except', 'finally', 'for', 'from', 'global', 'if', 'import', 'in', 'is', 'lambda', 'nonlocal', 'not', 'or', 'pass', 'raise', 'return', 'try', 'while', 'with', 'yield']\n"
     ]
    },
    {
     "data": {
      "text/plain": [
       "35"
      ]
     },
     "execution_count": 15,
     "metadata": {},
     "output_type": "execute_result"
    }
   ],
   "source": [
    "import keyword\n",
    "\n",
    "python_keywords = keyword.kwlist  # .kwlist method is used to get all keywords in python\n",
    "\n",
    "print(python_keywords)\n",
    "\n",
    "len(python_keywords)   # len method is used to get no.of keywords in the python"
   ]
  },
  {
   "cell_type": "markdown",
   "id": "ca6955a8",
   "metadata": {},
   "source": [
    "## Python Variables"
   ]
  },
  {
   "cell_type": "markdown",
   "id": "6638cef9",
   "metadata": {},
   "source": [
    "Variables are containers for storing data values."
   ]
  },
  {
   "cell_type": "code",
   "execution_count": 17,
   "id": "f78a5f44",
   "metadata": {},
   "outputs": [
    {
     "name": "stdout",
     "output_type": "stream",
     "text": [
      "2869\n"
     ]
    }
   ],
   "source": [
    "# creating a variable\n",
    "\n",
    "a = 2869\n",
    "\n",
    "# here 'a' is a variable name and it is storing a value '2869' and the value is a one of the type of data.\n",
    "\n",
    "print(a)"
   ]
  },
  {
   "cell_type": "markdown",
   "id": "af56a7f9",
   "metadata": {},
   "source": [
    "### Rules to create a Variables "
   ]
  },
  {
   "cell_type": "markdown",
   "id": "43c9fe22",
   "metadata": {},
   "source": [
    "A variable name can only contain alpha-numeric characters and underscores (A-z, 0-9, and _ )."
   ]
  },
  {
   "cell_type": "markdown",
   "id": "56ad700f",
   "metadata": {},
   "source": [
    "A variable name cannot start with a number or any special character like $, (, * % etc."
   ]
  },
  {
   "cell_type": "markdown",
   "id": "ec74dc3f",
   "metadata": {},
   "source": [
    "Python reserved keywords cannot be used naming the variable."
   ]
  },
  {
   "cell_type": "markdown",
   "id": "a0184b5f",
   "metadata": {},
   "source": [
    "Python variable names are case-sensitive."
   ]
  },
  {
   "cell_type": "markdown",
   "id": "4b64673b",
   "metadata": {},
   "source": [
    "Variable name can't start with Digits."
   ]
  },
  {
   "cell_type": "code",
   "execution_count": 18,
   "id": "f161843b",
   "metadata": {},
   "outputs": [],
   "source": [
    "# valid variables\n",
    "\n",
    "abc = 25\n",
    "var_1 ='Ramana Reddy'\n",
    "_var ='Data analyst'"
   ]
  },
  {
   "cell_type": "code",
   "execution_count": 21,
   "id": "4084a6d3",
   "metadata": {},
   "outputs": [
    {
     "ename": "SyntaxError",
     "evalue": "invalid decimal literal (800443445.py, line 3)",
     "output_type": "error",
     "traceback": [
      "\u001b[1;36m  Cell \u001b[1;32mIn[21], line 3\u001b[1;36m\u001b[0m\n\u001b[1;33m    1_abc = 780\u001b[0m\n\u001b[1;37m     ^\u001b[0m\n\u001b[1;31mSyntaxError\u001b[0m\u001b[1;31m:\u001b[0m invalid decimal literal\n"
     ]
    }
   ],
   "source": [
    "# invalid variables\n",
    "\n",
    "1_abc = 780\n",
    "@var = 'enter'\n",
    "for = 823"
   ]
  },
  {
   "cell_type": "markdown",
   "id": "697cd181",
   "metadata": {},
   "source": [
    "### Multiple Variables "
   ]
  },
  {
   "cell_type": "code",
   "execution_count": 24,
   "id": "b98df123",
   "metadata": {},
   "outputs": [
    {
     "name": "stdout",
     "output_type": "stream",
     "text": [
      "python\n",
      "java\n",
      "sql\n"
     ]
    }
   ],
   "source": [
    "a,b,c ='python','java','sql'\n",
    "\n",
    "print(a)\n",
    "print(b)\n",
    "print(c)"
   ]
  },
  {
   "cell_type": "code",
   "execution_count": 25,
   "id": "8d09a836",
   "metadata": {},
   "outputs": [
    {
     "name": "stdout",
     "output_type": "stream",
     "text": [
      "2869\n",
      "2869\n",
      "2869\n"
     ]
    }
   ],
   "source": [
    "a=b=c = 2869\n",
    "\n",
    "print(a)\n",
    "print(b)\n",
    "print(c)"
   ]
  },
  {
   "cell_type": "code",
   "execution_count": null,
   "id": "8f58676a",
   "metadata": {},
   "outputs": [],
   "source": []
  },
  {
   "cell_type": "code",
   "execution_count": null,
   "id": "1c36cf22",
   "metadata": {},
   "outputs": [],
   "source": []
  },
  {
   "cell_type": "code",
   "execution_count": null,
   "id": "2a63dd6c",
   "metadata": {},
   "outputs": [],
   "source": []
  }
 ],
 "metadata": {
  "kernelspec": {
   "display_name": "Python 3 (ipykernel)",
   "language": "python",
   "name": "python3"
  },
  "language_info": {
   "codemirror_mode": {
    "name": "ipython",
    "version": 3
   },
   "file_extension": ".py",
   "mimetype": "text/x-python",
   "name": "python",
   "nbconvert_exporter": "python",
   "pygments_lexer": "ipython3",
   "version": "3.11.5"
  }
 },
 "nbformat": 4,
 "nbformat_minor": 5
}
