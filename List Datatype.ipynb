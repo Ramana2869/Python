{
 "cells": [
  {
   "cell_type": "markdown",
   "id": "9b20fae9",
   "metadata": {},
   "source": [
    "# List Datatype"
   ]
  },
  {
   "cell_type": "markdown",
   "id": "6a918214",
   "metadata": {},
   "source": [
    "Lists are used to store multiple items in a single variable."
   ]
  },
  {
   "cell_type": "markdown",
   "id": "29d1be35",
   "metadata": {},
   "source": [
    "Lists are created using square brackets:"
   ]
  },
  {
   "cell_type": "markdown",
   "id": "e8a652f8",
   "metadata": {},
   "source": [
    "List is a collection of elements and each element separated by comma(,)."
   ]
  },
  {
   "cell_type": "markdown",
   "id": "7354712a",
   "metadata": {},
   "source": [
    "List items are ordered, changeable, and allow duplicate values."
   ]
  },
  {
   "cell_type": "markdown",
   "id": "bbf31467",
   "metadata": {},
   "source": [
    "Lists are Mutable means we can modify the list"
   ]
  },
  {
   "cell_type": "code",
   "execution_count": 1,
   "id": "4f8a9fe7",
   "metadata": {},
   "outputs": [],
   "source": [
    "# list data type\n",
    "lst1 =[6,84,768,9.0876,\"teks\",\"tk\",True]"
   ]
  },
  {
   "cell_type": "code",
   "execution_count": 3,
   "id": "d6d284cf",
   "metadata": {},
   "outputs": [
    {
     "name": "stdout",
     "output_type": "stream",
     "text": [
      "<class 'list'>\n"
     ]
    }
   ],
   "source": [
    "#type\n",
    "print(type(lst1))"
   ]
  },
  {
   "cell_type": "code",
   "execution_count": 4,
   "id": "3d2a8e85",
   "metadata": {},
   "outputs": [
    {
     "name": "stdout",
     "output_type": "stream",
     "text": [
      "9.0876\n"
     ]
    }
   ],
   "source": [
    "#index\n",
    "print(lst1[3])"
   ]
  },
  {
   "cell_type": "code",
   "execution_count": 5,
   "id": "e3766513",
   "metadata": {},
   "outputs": [
    {
     "name": "stdout",
     "output_type": "stream",
     "text": [
      "True\n"
     ]
    }
   ],
   "source": [
    "print(lst1[6])"
   ]
  },
  {
   "cell_type": "code",
   "execution_count": 6,
   "id": "da12dd6b",
   "metadata": {},
   "outputs": [
    {
     "name": "stdout",
     "output_type": "stream",
     "text": [
      "[6, 84, 768, 9.0876, 'teks']\n"
     ]
    }
   ],
   "source": [
    "#slicing\n",
    "print(lst1[0:5:1])"
   ]
  },
  {
   "cell_type": "markdown",
   "id": "328ca6b4",
   "metadata": {},
   "source": [
    "## Modifying lists"
   ]
  },
  {
   "cell_type": "code",
   "execution_count": 9,
   "id": "a2ece1e7",
   "metadata": {},
   "outputs": [],
   "source": [
    "#changing\n",
    "lst1[2]=\"unique\""
   ]
  },
  {
   "cell_type": "code",
   "execution_count": 10,
   "id": "2fa3c6fd",
   "metadata": {},
   "outputs": [
    {
     "data": {
      "text/plain": [
       "[6, 84, 'unique', 9.0876, 'teks', 'tk', True]"
      ]
     },
     "execution_count": 10,
     "metadata": {},
     "output_type": "execute_result"
    }
   ],
   "source": [
    "lst1"
   ]
  },
  {
   "cell_type": "markdown",
   "id": "535a381b",
   "metadata": {},
   "source": []
  },
  {
   "cell_type": "code",
   "execution_count": 11,
   "id": "a766c2dc",
   "metadata": {},
   "outputs": [],
   "source": [
    "lst1 = [6, 84, 'unique', 9.0876, 'teks', 'tk', True]"
   ]
  },
  {
   "cell_type": "code",
   "execution_count": 12,
   "id": "bae0e718",
   "metadata": {},
   "outputs": [
    {
     "data": {
      "text/plain": [
       "[6, 84, 'unique', 9.0876, 'teks', 'tk', True, 'python']"
      ]
     },
     "execution_count": 12,
     "metadata": {},
     "output_type": "execute_result"
    }
   ],
   "source": [
    "#append                 # it will add an element in last of the list\n",
    "lst1.append(\"python\")\n",
    "lst1"
   ]
  },
  {
   "cell_type": "code",
   "execution_count": 13,
   "id": "0ca5debe",
   "metadata": {},
   "outputs": [
    {
     "data": {
      "text/plain": [
       "[6, 84, 'unique', 9.0876, 'teks', 28, 'tk', True, 'python']"
      ]
     },
     "execution_count": 13,
     "metadata": {},
     "output_type": "execute_result"
    }
   ],
   "source": [
    "#insert                # it will insert an element at particular position\n",
    "lst1.insert(5,28)\n",
    "lst1"
   ]
  },
  {
   "cell_type": "code",
   "execution_count": 14,
   "id": "5d9ba693",
   "metadata": {},
   "outputs": [],
   "source": [
    "#remove                # it will remove mentioned element from list\n",
    "lst1 = [6, 84, 'unique', 9.0876, 'teks', 28, 'tk', True, 'python']"
   ]
  },
  {
   "cell_type": "code",
   "execution_count": 15,
   "id": "6a61c043",
   "metadata": {},
   "outputs": [],
   "source": [
    "lst1.remove(9.0876)"
   ]
  },
  {
   "cell_type": "code",
   "execution_count": 16,
   "id": "12d487d2",
   "metadata": {},
   "outputs": [
    {
     "data": {
      "text/plain": [
       "[6, 84, 'unique', 'teks', 28, 'tk', True, 'python']"
      ]
     },
     "execution_count": 16,
     "metadata": {},
     "output_type": "execute_result"
    }
   ],
   "source": [
    "lst1"
   ]
  },
  {
   "cell_type": "code",
   "execution_count": 17,
   "id": "6538256f",
   "metadata": {},
   "outputs": [
    {
     "data": {
      "text/plain": [
       "[6, 84, 'unique', 'teks', 28, True, 'python']"
      ]
     },
     "execution_count": 17,
     "metadata": {},
     "output_type": "execute_result"
    }
   ],
   "source": [
    "#delete                # it will delete an element from list by the using index number\n",
    "del lst1[5]\n",
    "lst1"
   ]
  },
  {
   "cell_type": "code",
   "execution_count": 18,
   "id": "1f535518",
   "metadata": {},
   "outputs": [
    {
     "data": {
      "text/plain": [
       "[6, 84, 'unique', 'teks', 28, True]"
      ]
     },
     "execution_count": 18,
     "metadata": {},
     "output_type": "execute_result"
    }
   ],
   "source": [
    "#poping                # it will remove last element from the list\n",
    "lst1.pop()\n",
    "lst1"
   ]
  },
  {
   "cell_type": "markdown",
   "id": "631bf0cc",
   "metadata": {},
   "source": [
    "## List Operations"
   ]
  },
  {
   "cell_type": "code",
   "execution_count": 16,
   "id": "da08eb4c",
   "metadata": {},
   "outputs": [],
   "source": [
    "#concatenation         # concatenation means combining two or more than two lists as a single list\n",
    "lst2 = [4,1,7,24,94,0]"
   ]
  },
  {
   "cell_type": "code",
   "execution_count": 17,
   "id": "d79921be",
   "metadata": {},
   "outputs": [],
   "source": [
    "lst3 = [8,4]"
   ]
  },
  {
   "cell_type": "code",
   "execution_count": 18,
   "id": "77cb7214",
   "metadata": {},
   "outputs": [],
   "source": [
    "lst4 = [1]"
   ]
  },
  {
   "cell_type": "code",
   "execution_count": 19,
   "id": "621b3c9f",
   "metadata": {},
   "outputs": [
    {
     "data": {
      "text/plain": [
       "[4, 1, 7, 24, 94, 0, 8, 4, 1]"
      ]
     },
     "execution_count": 19,
     "metadata": {},
     "output_type": "execute_result"
    }
   ],
   "source": [
    "lst5 = lst2 + lst3 +lst4\n",
    "lst5"
   ]
  },
  {
   "cell_type": "code",
   "execution_count": 20,
   "id": "1a434b09",
   "metadata": {},
   "outputs": [
    {
     "data": {
      "text/plain": [
       "[4,\n",
       " 1,\n",
       " 7,\n",
       " 24,\n",
       " 94,\n",
       " 0,\n",
       " 4,\n",
       " 1,\n",
       " 7,\n",
       " 24,\n",
       " 94,\n",
       " 0,\n",
       " 4,\n",
       " 1,\n",
       " 7,\n",
       " 24,\n",
       " 94,\n",
       " 0,\n",
       " 4,\n",
       " 1,\n",
       " 7,\n",
       " 24,\n",
       " 94,\n",
       " 0,\n",
       " 4,\n",
       " 1,\n",
       " 7,\n",
       " 24,\n",
       " 94,\n",
       " 0]"
      ]
     },
     "execution_count": 20,
     "metadata": {},
     "output_type": "execute_result"
    }
   ],
   "source": [
    "#repetition            #repetition means it will repeats list as mentioned no.of times \n",
    "lst2 = [4,1,7,24,94,0]*5\n",
    "lst2"
   ]
  },
  {
   "cell_type": "code",
   "execution_count": 21,
   "id": "45a4530d",
   "metadata": {},
   "outputs": [
    {
     "data": {
      "text/plain": [
       "[8, 4, 8, 4, 8, 4, 8, 4, 8, 4]"
      ]
     },
     "execution_count": 21,
     "metadata": {},
     "output_type": "execute_result"
    }
   ],
   "source": [
    "lst3 = [8,4]*5\n",
    "lst3"
   ]
  },
  {
   "cell_type": "code",
   "execution_count": 22,
   "id": "caeb7238",
   "metadata": {},
   "outputs": [
    {
     "data": {
      "text/plain": [
       "[1, 1, 1, 1, 1]"
      ]
     },
     "execution_count": 22,
     "metadata": {},
     "output_type": "execute_result"
    }
   ],
   "source": [
    "lst4 = [1]*5\n",
    "lst4"
   ]
  },
  {
   "cell_type": "markdown",
   "id": "c80808b5",
   "metadata": {},
   "source": [
    "## List Methods"
   ]
  },
  {
   "cell_type": "code",
   "execution_count": 23,
   "id": "68e93a3b",
   "metadata": {},
   "outputs": [],
   "source": [
    "#list methods\n",
    "lst2 = [4,1,7,24,94,0]"
   ]
  },
  {
   "cell_type": "code",
   "execution_count": 24,
   "id": "88b27fed",
   "metadata": {},
   "outputs": [
    {
     "data": {
      "text/plain": [
       "[0, 1, 4, 7, 24, 94]"
      ]
     },
     "execution_count": 24,
     "metadata": {},
     "output_type": "execute_result"
    }
   ],
   "source": [
    "lst2.sort()             # it will arrange the list in ascending order\n",
    "lst2"
   ]
  },
  {
   "cell_type": "code",
   "execution_count": 25,
   "id": "702d3982",
   "metadata": {},
   "outputs": [
    {
     "data": {
      "text/plain": [
       "[94, 24, 7, 4, 1, 0]"
      ]
     },
     "execution_count": 25,
     "metadata": {},
     "output_type": "execute_result"
    }
   ],
   "source": [
    "lst2.reverse()          # it will arrange the list in reverse order\n",
    "lst2"
   ]
  },
  {
   "cell_type": "code",
   "execution_count": 28,
   "id": "3e43c583",
   "metadata": {},
   "outputs": [],
   "source": [
    "lst2 = [4,1,7,24,94,0]"
   ]
  },
  {
   "cell_type": "code",
   "execution_count": 29,
   "id": "336f2f52",
   "metadata": {},
   "outputs": [
    {
     "data": {
      "text/plain": [
       "1"
      ]
     },
     "execution_count": 29,
     "metadata": {},
     "output_type": "execute_result"
    }
   ],
   "source": [
    "lst2.count(0)          # it will give a element no.of times occured"
   ]
  },
  {
   "cell_type": "code",
   "execution_count": 1,
   "id": "19ff9ff5",
   "metadata": {},
   "outputs": [],
   "source": [
    "lst2 = [4,1,7,24,94,0]"
   ]
  },
  {
   "cell_type": "code",
   "execution_count": 2,
   "id": "4bb44c43",
   "metadata": {},
   "outputs": [
    {
     "data": {
      "text/plain": [
       "6"
      ]
     },
     "execution_count": 2,
     "metadata": {},
     "output_type": "execute_result"
    }
   ],
   "source": [
    "len(lst2)             # it will give no.of elements in a list"
   ]
  },
  {
   "cell_type": "code",
   "execution_count": 3,
   "id": "f218b3e9",
   "metadata": {},
   "outputs": [
    {
     "data": {
      "text/plain": [
       "94"
      ]
     },
     "execution_count": 3,
     "metadata": {},
     "output_type": "execute_result"
    }
   ],
   "source": [
    "max(lst2)             # it will give maximum number from the list"
   ]
  },
  {
   "cell_type": "code",
   "execution_count": 4,
   "id": "5eb816cd",
   "metadata": {},
   "outputs": [
    {
     "data": {
      "text/plain": [
       "0"
      ]
     },
     "execution_count": 4,
     "metadata": {},
     "output_type": "execute_result"
    }
   ],
   "source": [
    "min(lst2)             # it will give minimum number from the list"
   ]
  },
  {
   "cell_type": "code",
   "execution_count": 8,
   "id": "f620321d",
   "metadata": {},
   "outputs": [],
   "source": [
    "#nested list          # lists under list is known as nested list\n",
    "lst = [[2,8,6,9],[5,3,7,4],[0,6,1,4]]"
   ]
  },
  {
   "cell_type": "code",
   "execution_count": 10,
   "id": "086b37f5",
   "metadata": {},
   "outputs": [
    {
     "name": "stdout",
     "output_type": "stream",
     "text": [
      "4\n"
     ]
    }
   ],
   "source": [
    "print(lst[1][3])"
   ]
  },
  {
   "cell_type": "code",
   "execution_count": null,
   "id": "3ecce790",
   "metadata": {},
   "outputs": [],
   "source": []
  }
 ],
 "metadata": {
  "kernelspec": {
   "display_name": "Python 3 (ipykernel)",
   "language": "python",
   "name": "python3"
  },
  "language_info": {
   "codemirror_mode": {
    "name": "ipython",
    "version": 3
   },
   "file_extension": ".py",
   "mimetype": "text/x-python",
   "name": "python",
   "nbconvert_exporter": "python",
   "pygments_lexer": "ipython3",
   "version": "3.11.5"
  }
 },
 "nbformat": 4,
 "nbformat_minor": 5
}
