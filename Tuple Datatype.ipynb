{
 "cells": [
  {
   "cell_type": "markdown",
   "id": "a1653f7c",
   "metadata": {},
   "source": [
    "# Tuple Datatype"
   ]
  },
  {
   "cell_type": "markdown",
   "id": "6b382746",
   "metadata": {},
   "source": [
    "Tuples are used to store multiple items in a single variable."
   ]
  },
  {
   "cell_type": "markdown",
   "id": "1778c77e",
   "metadata": {},
   "source": [
    "Tuples are written with round brackets and each element separated by comma."
   ]
  },
  {
   "cell_type": "markdown",
   "id": "db27a9dd",
   "metadata": {},
   "source": [
    "Tuple items are ordered, unchangeable, and allow duplicate values."
   ]
  },
  {
   "cell_type": "markdown",
   "id": "b93fc3f1",
   "metadata": {},
   "source": [
    "Tuples are immutable means we can not modify elements from the tuple."
   ]
  },
  {
   "cell_type": "code",
   "execution_count": 1,
   "id": "b6e73e5c",
   "metadata": {},
   "outputs": [
    {
     "data": {
      "text/plain": [
       "()"
      ]
     },
     "execution_count": 1,
     "metadata": {},
     "output_type": "execute_result"
    }
   ],
   "source": [
    "#tuple\n",
    "#creating empty tuple\n",
    "empty_tuple = ()\n",
    "empty_tuple"
   ]
  },
  {
   "cell_type": "code",
   "execution_count": 81,
   "id": "8e6484e0",
   "metadata": {},
   "outputs": [],
   "source": [
    "#creating 8 elements in a tuple\n",
    "tup1 = (2,8,6.9,\"picture\",\"shadow\",\"mirror\",69,True)"
   ]
  },
  {
   "cell_type": "code",
   "execution_count": 82,
   "id": "dbb320b2",
   "metadata": {},
   "outputs": [
    {
     "name": "stdout",
     "output_type": "stream",
     "text": [
      "<class 'tuple'>\n"
     ]
    }
   ],
   "source": [
    "print(type(tup1))"
   ]
  },
  {
   "cell_type": "code",
   "execution_count": 83,
   "id": "3b87ce9f",
   "metadata": {},
   "outputs": [
    {
     "name": "stdout",
     "output_type": "stream",
     "text": [
      "picture\n",
      "69\n"
     ]
    }
   ],
   "source": [
    "#accessing elements\n",
    "print(tup1[3])\n",
    "print(tup1[-2])"
   ]
  },
  {
   "cell_type": "code",
   "execution_count": 84,
   "id": "e5c1aa12",
   "metadata": {},
   "outputs": [
    {
     "name": "stdout",
     "output_type": "stream",
     "text": [
      "(8, 6.9, 'picture', 'shadow', 'mirror', 69)\n"
     ]
    }
   ],
   "source": [
    "#slicing\n",
    "print(tup1[1:7])"
   ]
  },
  {
   "cell_type": "code",
   "execution_count": 85,
   "id": "3cf98af2",
   "metadata": {},
   "outputs": [],
   "source": [
    "tup2 = (1,2,3,4)\n",
    "tup3 = ('a','b','c')\n",
    "tup4 = (\"apple\",'banana',\"cherry\",\"pine apple\")"
   ]
  },
  {
   "cell_type": "markdown",
   "id": "fd3493cd",
   "metadata": {},
   "source": [
    "## Tuple Operations"
   ]
  },
  {
   "cell_type": "code",
   "execution_count": 86,
   "id": "ef6b1434",
   "metadata": {},
   "outputs": [
    {
     "data": {
      "text/plain": [
       "(1, 2, 3, 4, 'a', 'b', 'c', 'apple', 'banana', 'cherry', 'pine apple')"
      ]
     },
     "execution_count": 86,
     "metadata": {},
     "output_type": "execute_result"
    }
   ],
   "source": [
    "#concatenation\n",
    "tup5 = tup2 + tup3 + tup4\n",
    "tup5"
   ]
  },
  {
   "cell_type": "code",
   "execution_count": 87,
   "id": "8ce7bc1d",
   "metadata": {},
   "outputs": [
    {
     "data": {
      "text/plain": [
       "(1, 2, 3, 4, 1, 2, 3, 4, 1, 2, 3, 4, 1, 2, 3, 4)"
      ]
     },
     "execution_count": 87,
     "metadata": {},
     "output_type": "execute_result"
    }
   ],
   "source": [
    "#repetition\n",
    "tup2 = (1,2,3,4)*4\n",
    "tup2"
   ]
  },
  {
   "cell_type": "code",
   "execution_count": 88,
   "id": "f5a35c65",
   "metadata": {},
   "outputs": [
    {
     "data": {
      "text/plain": [
       "('a', 'b', 'c', 'a', 'b', 'c', 'a', 'b', 'c', 'a', 'b', 'c')"
      ]
     },
     "execution_count": 88,
     "metadata": {},
     "output_type": "execute_result"
    }
   ],
   "source": [
    "tup3 = ('a','b','c')*4\n",
    "tup3"
   ]
  },
  {
   "cell_type": "code",
   "execution_count": 89,
   "id": "6b5b360a",
   "metadata": {},
   "outputs": [
    {
     "data": {
      "text/plain": [
       "('apple',\n",
       " 'banana',\n",
       " 'cherry',\n",
       " 'pine apple',\n",
       " 'apple',\n",
       " 'banana',\n",
       " 'cherry',\n",
       " 'pine apple',\n",
       " 'apple',\n",
       " 'banana',\n",
       " 'cherry',\n",
       " 'pine apple',\n",
       " 'apple',\n",
       " 'banana',\n",
       " 'cherry',\n",
       " 'pine apple')"
      ]
     },
     "execution_count": 89,
     "metadata": {},
     "output_type": "execute_result"
    }
   ],
   "source": [
    "tup4 = (\"apple\",'banana',\"cherry\",\"pine apple\")*4\n",
    "tup4"
   ]
  },
  {
   "cell_type": "markdown",
   "id": "406596ab",
   "metadata": {},
   "source": [
    "## Tuple Methods"
   ]
  },
  {
   "cell_type": "code",
   "execution_count": 90,
   "id": "97149847",
   "metadata": {},
   "outputs": [],
   "source": [
    "#tuple methods\n",
    "tup6 = (1,2,4,2,5,2,5,2,6,14,146,14,78,38,25,9,7,2,6,83,2,8,54,8,3,8,4,37,47)"
   ]
  },
  {
   "cell_type": "code",
   "execution_count": 91,
   "id": "d02639c7",
   "metadata": {},
   "outputs": [
    {
     "data": {
      "text/plain": [
       "6"
      ]
     },
     "execution_count": 91,
     "metadata": {},
     "output_type": "execute_result"
    }
   ],
   "source": [
    "#count\n",
    "tup6.count(2)"
   ]
  },
  {
   "cell_type": "code",
   "execution_count": 92,
   "id": "e608d40d",
   "metadata": {},
   "outputs": [
    {
     "data": {
      "text/plain": [
       "2"
      ]
     },
     "execution_count": 92,
     "metadata": {},
     "output_type": "execute_result"
    }
   ],
   "source": [
    "tup6.count(5)"
   ]
  },
  {
   "cell_type": "code",
   "execution_count": 93,
   "id": "b182dbe9",
   "metadata": {},
   "outputs": [
    {
     "data": {
      "text/plain": [
       "3"
      ]
     },
     "execution_count": 93,
     "metadata": {},
     "output_type": "execute_result"
    }
   ],
   "source": [
    "tup6.count(8)"
   ]
  },
  {
   "cell_type": "code",
   "execution_count": 94,
   "id": "4b427bd6",
   "metadata": {},
   "outputs": [
    {
     "data": {
      "text/plain": [
       "2"
      ]
     },
     "execution_count": 94,
     "metadata": {},
     "output_type": "execute_result"
    }
   ],
   "source": [
    "tup6.count(14)"
   ]
  },
  {
   "cell_type": "code",
   "execution_count": 95,
   "id": "35b8f909",
   "metadata": {},
   "outputs": [
    {
     "data": {
      "text/plain": [
       "10"
      ]
     },
     "execution_count": 95,
     "metadata": {},
     "output_type": "execute_result"
    }
   ],
   "source": [
    "#index\n",
    "tup6.index(146)"
   ]
  },
  {
   "cell_type": "code",
   "execution_count": 96,
   "id": "b3eb6949",
   "metadata": {},
   "outputs": [
    {
     "data": {
      "text/plain": [
       "12"
      ]
     },
     "execution_count": 96,
     "metadata": {},
     "output_type": "execute_result"
    }
   ],
   "source": [
    "tup6.index(78)"
   ]
  },
  {
   "cell_type": "code",
   "execution_count": 97,
   "id": "7f04fcc2",
   "metadata": {},
   "outputs": [
    {
     "data": {
      "text/plain": [
       "27"
      ]
     },
     "execution_count": 97,
     "metadata": {},
     "output_type": "execute_result"
    }
   ],
   "source": [
    "tup6.index(37)"
   ]
  },
  {
   "cell_type": "code",
   "execution_count": 98,
   "id": "298d4af6",
   "metadata": {},
   "outputs": [
    {
     "ename": "TypeError",
     "evalue": "'tuple' object does not support item assignment",
     "output_type": "error",
     "traceback": [
      "\u001b[1;31m---------------------------------------------------------------------------\u001b[0m",
      "\u001b[1;31mTypeError\u001b[0m                                 Traceback (most recent call last)",
      "Cell \u001b[1;32mIn[98], line 3\u001b[0m\n\u001b[0;32m      1\u001b[0m \u001b[38;5;66;03m#immutable\u001b[39;00m\n\u001b[0;32m      2\u001b[0m tup4 \u001b[38;5;241m=\u001b[39m (\u001b[38;5;124m\"\u001b[39m\u001b[38;5;124mapple\u001b[39m\u001b[38;5;124m\"\u001b[39m,\u001b[38;5;124m'\u001b[39m\u001b[38;5;124mbanana\u001b[39m\u001b[38;5;124m'\u001b[39m,\u001b[38;5;124m\"\u001b[39m\u001b[38;5;124mcherry\u001b[39m\u001b[38;5;124m\"\u001b[39m,\u001b[38;5;124m\"\u001b[39m\u001b[38;5;124mpine apple\u001b[39m\u001b[38;5;124m\"\u001b[39m)\n\u001b[1;32m----> 3\u001b[0m tup4[\u001b[38;5;241m1\u001b[39m]\u001b[38;5;241m=\u001b[39m\u001b[38;5;124m\"\u001b[39m\u001b[38;5;124mcarrot\u001b[39m\u001b[38;5;124m\"\u001b[39m\n\u001b[0;32m      4\u001b[0m tup4\n",
      "\u001b[1;31mTypeError\u001b[0m: 'tuple' object does not support item assignment"
     ]
    }
   ],
   "source": [
    "#immutable\n",
    "tup4 = (\"apple\",'banana',\"cherry\",\"pine apple\")\n",
    "tup4[1]=\"carrot\"\n",
    "tup4"
   ]
  },
  {
   "cell_type": "code",
   "execution_count": null,
   "id": "ff2a0c67",
   "metadata": {},
   "outputs": [],
   "source": []
  },
  {
   "cell_type": "code",
   "execution_count": null,
   "id": "625c78d7",
   "metadata": {},
   "outputs": [],
   "source": []
  },
  {
   "cell_type": "code",
   "execution_count": null,
   "id": "3e682762",
   "metadata": {},
   "outputs": [],
   "source": []
  },
  {
   "cell_type": "code",
   "execution_count": null,
   "id": "5f8cdcdb",
   "metadata": {},
   "outputs": [],
   "source": []
  },
  {
   "cell_type": "code",
   "execution_count": null,
   "id": "0b7ee12f",
   "metadata": {},
   "outputs": [],
   "source": []
  },
  {
   "cell_type": "code",
   "execution_count": null,
   "id": "0f8a70bb",
   "metadata": {},
   "outputs": [],
   "source": []
  },
  {
   "cell_type": "code",
   "execution_count": null,
   "id": "3925452b",
   "metadata": {},
   "outputs": [],
   "source": []
  },
  {
   "cell_type": "code",
   "execution_count": null,
   "id": "c2d06523",
   "metadata": {},
   "outputs": [],
   "source": []
  },
  {
   "cell_type": "code",
   "execution_count": null,
   "id": "5acf6b94",
   "metadata": {},
   "outputs": [],
   "source": []
  },
  {
   "cell_type": "code",
   "execution_count": null,
   "id": "3f44b4e8",
   "metadata": {},
   "outputs": [],
   "source": []
  },
  {
   "cell_type": "code",
   "execution_count": null,
   "id": "a24b7923",
   "metadata": {},
   "outputs": [],
   "source": []
  },
  {
   "cell_type": "code",
   "execution_count": null,
   "id": "8fa9eefc",
   "metadata": {},
   "outputs": [],
   "source": []
  },
  {
   "cell_type": "code",
   "execution_count": null,
   "id": "77b2c369",
   "metadata": {},
   "outputs": [],
   "source": []
  },
  {
   "cell_type": "code",
   "execution_count": 143,
   "id": "81f312f5",
   "metadata": {},
   "outputs": [],
   "source": []
  },
  {
   "cell_type": "code",
   "execution_count": null,
   "id": "b574ee0f",
   "metadata": {},
   "outputs": [],
   "source": []
  },
  {
   "cell_type": "code",
   "execution_count": null,
   "id": "f80af256",
   "metadata": {},
   "outputs": [],
   "source": []
  },
  {
   "cell_type": "code",
   "execution_count": null,
   "id": "ccbf48bf",
   "metadata": {},
   "outputs": [],
   "source": []
  },
  {
   "cell_type": "code",
   "execution_count": null,
   "id": "639f49b6",
   "metadata": {},
   "outputs": [],
   "source": []
  },
  {
   "cell_type": "code",
   "execution_count": null,
   "id": "ce5fe613",
   "metadata": {},
   "outputs": [],
   "source": []
  },
  {
   "cell_type": "code",
   "execution_count": null,
   "id": "3611ccdc",
   "metadata": {},
   "outputs": [],
   "source": []
  },
  {
   "cell_type": "code",
   "execution_count": null,
   "id": "49bd2715",
   "metadata": {},
   "outputs": [],
   "source": []
  },
  {
   "cell_type": "code",
   "execution_count": null,
   "id": "03462c26",
   "metadata": {},
   "outputs": [],
   "source": []
  },
  {
   "cell_type": "code",
   "execution_count": null,
   "id": "f9b44612",
   "metadata": {},
   "outputs": [],
   "source": []
  }
 ],
 "metadata": {
  "kernelspec": {
   "display_name": "Python 3 (ipykernel)",
   "language": "python",
   "name": "python3"
  },
  "language_info": {
   "codemirror_mode": {
    "name": "ipython",
    "version": 3
   },
   "file_extension": ".py",
   "mimetype": "text/x-python",
   "name": "python",
   "nbconvert_exporter": "python",
   "pygments_lexer": "ipython3",
   "version": "3.11.5"
  }
 },
 "nbformat": 4,
 "nbformat_minor": 5
}
