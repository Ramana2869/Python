{
 "cells": [
  {
   "cell_type": "markdown",
   "id": "6086eaf3",
   "metadata": {},
   "source": [
    "# Conditional Statements "
   ]
  },
  {
   "cell_type": "markdown",
   "id": "61d98822",
   "metadata": {},
   "source": [
    "In Python,conditional statements are used to control the flow of a program based on certain conditions."
   ]
  },
  {
   "cell_type": "markdown",
   "id": "b7ceccbf",
   "metadata": {},
   "source": [
    "The if, else, and elif (short for \"else if\") keywords are used for creating conditional structures."
   ]
  },
  {
   "cell_type": "code",
   "execution_count": 1,
   "id": "b48c4ea2",
   "metadata": {},
   "outputs": [
    {
     "name": "stdout",
     "output_type": "stream",
     "text": [
      "enter your age: 22\n",
      "your age is greater than 10\n"
     ]
    }
   ],
   "source": [
    "#if statement\n",
    "\n",
    "age = int(input(\"enter your age: \"))\n",
    "\n",
    "if age > 10:\n",
    "    print('your age is greater than 10')"
   ]
  },
  {
   "cell_type": "code",
   "execution_count": 1,
   "id": "8101fb9e",
   "metadata": {},
   "outputs": [
    {
     "name": "stdout",
     "output_type": "stream",
     "text": [
      "enter your age: 9\n",
      "your age is less than 10\n"
     ]
    }
   ],
   "source": [
    "#if else\n",
    "\n",
    "age = int(input(\"enter your age: \"))\n",
    "\n",
    "if age > 10:\n",
    "    print(\"your age is grater than 10\")\n",
    "else:\n",
    "    print(\"your age is less than 10\")"
   ]
  },
  {
   "cell_type": "code",
   "execution_count": 25,
   "id": "42ae1db1",
   "metadata": {},
   "outputs": [
    {
     "name": "stdout",
     "output_type": "stream",
     "text": [
      "enter your age: 58\n",
      "you are older man\n"
     ]
    }
   ],
   "source": [
    "#elif\n",
    "\n",
    "age = int(input(\"enter your age: \"))\n",
    "\n",
    "if age <=18:\n",
    "    print(\"you are not eligible to entry in pub\")\n",
    "elif age > 18 | age <=55:\n",
    "    print(\"you are eligible to entry in pub\")\n",
    "else:\n",
    "    print(\"you are older man\")"
   ]
  },
  {
   "cell_type": "code",
   "execution_count": 34,
   "id": "0590c02e",
   "metadata": {},
   "outputs": [
    {
     "name": "stdout",
     "output_type": "stream",
     "text": [
      "enter a number: 100\n",
      "it is positive number\n",
      "it is divisble by 2\n"
     ]
    }
   ],
   "source": [
    "#nested if\n",
    "\n",
    "x = int(input('enter a number: '))\n",
    "if x > 0:\n",
    "    print('it is positive number')\n",
    "    if x % 2 == 0:\n",
    "        print('it is divisble by 2')\n",
    "    else:\n",
    "        print('it is not divisible by 2')\n",
    "else:\n",
    "    print('it is negative number')"
   ]
  },
  {
   "cell_type": "markdown",
   "id": "eaf5faf1",
   "metadata": {},
   "source": [
    "# Loops"
   ]
  },
  {
   "cell_type": "markdown",
   "id": "a829eb03",
   "metadata": {},
   "source": [
    "Python while loop is used to run a block code until a certain condition is met."
   ]
  },
  {
   "cell_type": "code",
   "execution_count": 7,
   "id": "5042a573",
   "metadata": {},
   "outputs": [
    {
     "name": "stdout",
     "output_type": "stream",
     "text": [
      "1\n",
      "2\n",
      "3\n",
      "4\n",
      "5\n",
      "6\n",
      "7\n",
      "8\n",
      "9\n",
      "10\n",
      "11\n",
      "12\n",
      "13\n",
      "14\n",
      "15\n",
      "16\n",
      "17\n",
      "18\n",
      "19\n",
      "20\n",
      "21\n",
      "22\n",
      "23\n",
      "24\n",
      "25\n",
      "26\n",
      "27\n",
      "28\n",
      "29\n",
      "30\n",
      "31\n",
      "32\n",
      "33\n",
      "34\n",
      "35\n",
      "36\n",
      "37\n",
      "38\n",
      "39\n",
      "40\n",
      "41\n",
      "42\n",
      "43\n",
      "44\n",
      "45\n",
      "46\n",
      "47\n",
      "48\n",
      "49\n",
      "50\n",
      "51\n",
      "52\n",
      "53\n",
      "54\n",
      "55\n",
      "56\n",
      "57\n",
      "58\n",
      "59\n",
      "60\n",
      "61\n",
      "62\n",
      "63\n",
      "64\n",
      "65\n",
      "66\n",
      "67\n",
      "68\n",
      "69\n",
      "70\n",
      "71\n",
      "72\n",
      "73\n",
      "74\n",
      "75\n",
      "76\n",
      "77\n",
      "78\n",
      "79\n",
      "80\n",
      "81\n",
      "82\n",
      "83\n",
      "84\n",
      "85\n",
      "86\n",
      "87\n",
      "88\n",
      "89\n",
      "90\n",
      "91\n",
      "92\n",
      "93\n",
      "94\n",
      "95\n",
      "96\n",
      "97\n",
      "98\n",
      "99\n"
     ]
    }
   ],
   "source": [
    "#while loop \n",
    "#upto 99 numbers\n",
    "\n",
    "n = 1\n",
    "\n",
    "while n<100:\n",
    "    print(n)\n",
    "    n=n+1"
   ]
  },
  {
   "cell_type": "code",
   "execution_count": 8,
   "id": "3674fec3",
   "metadata": {},
   "outputs": [
    {
     "name": "stdout",
     "output_type": "stream",
     "text": [
      "A\n",
      "n\n",
      "t\n",
      "h\n",
      "r\n",
      "o\n",
      "p\n",
      "o\n",
      "c\n",
      "e\n",
      "n\n",
      "t\n",
      "r\n",
      "i\n",
      "c\n",
      "i\n",
      "t\n",
      "y\n"
     ]
    }
   ],
   "source": [
    "#for loop of word\n",
    "#The for loop is used for iterating over a sequence (that is either a list, tuple, dictionary, string, or range).\n",
    "\n",
    "word = \"Anthropocentricity\"\n",
    "\n",
    "for x in word:\n",
    "    print(x)"
   ]
  },
  {
   "cell_type": "code",
   "execution_count": 9,
   "id": "e6608d30",
   "metadata": {},
   "outputs": [
    {
     "name": "stdout",
     "output_type": "stream",
     "text": [
      "jupyter\n",
      "note book\n",
      "visual\n",
      "studio\n",
      "python\n",
      "java\n",
      "linkedin\n"
     ]
    }
   ],
   "source": [
    "#for loop of list\n",
    "\n",
    "lst1 = ['jupyter','note book','visual','studio','python','java','linkedin']\n",
    "\n",
    "for v in lst1:\n",
    "    print(v)"
   ]
  },
  {
   "cell_type": "code",
   "execution_count": 12,
   "id": "10188822",
   "metadata": {},
   "outputs": [
    {
     "name": "stdout",
     "output_type": "stream",
     "text": [
      "-13\n",
      "-12\n",
      "-11\n",
      "-10\n",
      "-9\n",
      "-8\n",
      "-7\n",
      "-6\n",
      "-5\n",
      "-4\n",
      "-3\n",
      "-2\n",
      "-1\n",
      "0\n",
      "1\n",
      "2\n",
      "3\n",
      "4\n",
      "5\n",
      "6\n",
      "7\n",
      "8\n",
      "9\n",
      "10\n",
      "11\n",
      "12\n"
     ]
    }
   ],
   "source": [
    "#for loop of range\n",
    "\n",
    "for n in range(-13,+13):\n",
    "    print(n)"
   ]
  },
  {
   "cell_type": "code",
   "execution_count": 15,
   "id": "183ebaba",
   "metadata": {},
   "outputs": [
    {
     "name": "stdout",
     "output_type": "stream",
     "text": [
      "(1, 'Telugu')\n",
      "(2, 'Hindi')\n",
      "(3, 'English')\n",
      "(4, 'Mathematics')\n",
      "(5, 'Physics')\n",
      "(6, 'Biology')\n",
      "(7, 'Social')\n"
     ]
    }
   ],
   "source": [
    "#for loop of dictionary\n",
    "\n",
    "dict1 = {1:'Telugu',2:'Hindi',3:'English',4:'Mathematics',5:'Physics',6:'Biology',7:'Social'}\n",
    "\n",
    "for subjects in dict1.items():\n",
    "    print(subjects)"
   ]
  },
  {
   "cell_type": "markdown",
   "id": "fac077b9",
   "metadata": {},
   "source": [
    "# Control Statements"
   ]
  },
  {
   "cell_type": "markdown",
   "id": "75a7b9e7",
   "metadata": {},
   "source": [
    "In Python, pass, break, and continue are control flow statements used within loops."
   ]
  },
  {
   "cell_type": "markdown",
   "id": "b6c2a3d0",
   "metadata": {},
   "source": [
    "They provide ways to control the execution of a loop or to handle certain situations."
   ]
  },
  {
   "cell_type": "code",
   "execution_count": 1,
   "id": "7150cfec",
   "metadata": {},
   "outputs": [
    {
     "name": "stdout",
     "output_type": "stream",
     "text": [
      "28\n",
      "29\n",
      "30\n",
      "32\n",
      "33\n",
      "34\n",
      "35\n",
      "36\n",
      "37\n"
     ]
    }
   ],
   "source": [
    "#pass\n",
    "#The pass statement is a no-operation statement\n",
    "\n",
    "for n in range(28,38):\n",
    "    if n == 31:\n",
    "        pass\n",
    "    else:\n",
    "        print(n)"
   ]
  },
  {
   "cell_type": "code",
   "execution_count": 2,
   "id": "fcd48097",
   "metadata": {},
   "outputs": [
    {
     "name": "stdout",
     "output_type": "stream",
     "text": [
      "0\n",
      "1\n",
      "2\n",
      "3\n",
      "4\n",
      "5\n",
      "6\n",
      "7\n",
      "8\n",
      "9\n",
      "10\n",
      "11\n",
      "12\n",
      "13\n",
      "14\n",
      "15\n",
      "16\n",
      "17\n",
      "18\n",
      "19\n",
      "20\n",
      "21\n",
      "22\n"
     ]
    }
   ],
   "source": [
    "#break\n",
    "#The break statement is used to exit a loop prematurely.\n",
    "\n",
    "for n in range(0,28):\n",
    "    if n==23:\n",
    "        break\n",
    "    print(n)"
   ]
  },
  {
   "cell_type": "code",
   "execution_count": 2,
   "id": "901c7a5c",
   "metadata": {},
   "outputs": [
    {
     "name": "stdout",
     "output_type": "stream",
     "text": [
      "11\n",
      "12\n",
      "13\n",
      "14\n",
      "15\n",
      "16\n",
      "17\n",
      "18\n",
      "19\n",
      "20\n",
      "21\n",
      "23\n",
      "24\n",
      "25\n",
      "26\n",
      "27\n",
      "28\n",
      "29\n",
      "30\n",
      "31\n",
      "32\n"
     ]
    }
   ],
   "source": [
    "#continue\n",
    "#The continue statement is used to skip the rest of the code inside a loop for the current iteration and move to the next iteration.\n",
    "\n",
    "for n in range(11,33):\n",
    "    if n==22:\n",
    "        continue\n",
    "    print(n)"
   ]
  },
  {
   "cell_type": "code",
   "execution_count": null,
   "id": "543ecef4",
   "metadata": {},
   "outputs": [],
   "source": []
  }
 ],
 "metadata": {
  "kernelspec": {
   "display_name": "Python 3 (ipykernel)",
   "language": "python",
   "name": "python3"
  },
  "language_info": {
   "codemirror_mode": {
    "name": "ipython",
    "version": 3
   },
   "file_extension": ".py",
   "mimetype": "text/x-python",
   "name": "python",
   "nbconvert_exporter": "python",
   "pygments_lexer": "ipython3",
   "version": "3.11.5"
  }
 },
 "nbformat": 4,
 "nbformat_minor": 5
}
