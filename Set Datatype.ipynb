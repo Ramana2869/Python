{
 "cells": [
  {
   "cell_type": "markdown",
   "id": "b0b1c93a",
   "metadata": {},
   "source": [
    "# Set Datatype"
   ]
  },
  {
   "cell_type": "markdown",
   "id": "62cf7e2d",
   "metadata": {},
   "source": [
    "Sets are used to store multiple items in a single variable."
   ]
  },
  {
   "cell_type": "markdown",
   "id": "85dcfa35",
   "metadata": {},
   "source": [
    "Sets are written with curly brackets."
   ]
  },
  {
   "cell_type": "markdown",
   "id": "73adc0e4",
   "metadata": {},
   "source": [
    "A set is a collection which is unordered, unchangeable and unindexed."
   ]
  },
  {
   "cell_type": "markdown",
   "id": "810fc6e6",
   "metadata": {},
   "source": [
    " Note: Set items are unchangeable, but you can remove items and add new items."
   ]
  },
  {
   "cell_type": "code",
   "execution_count": null,
   "id": "5df50dad",
   "metadata": {},
   "outputs": [],
   "source": [
    "#set datatype\n",
    "set1 = {'ramana','nithish','vamshi','jayanth','prem','karthik','akhil','varun','ramana','nithish'}"
   ]
  },
  {
   "cell_type": "code",
   "execution_count": 7,
   "id": "9822a666",
   "metadata": {},
   "outputs": [
    {
     "name": "stdout",
     "output_type": "stream",
     "text": [
      "<class 'set'>\n"
     ]
    }
   ],
   "source": [
    "#type\n",
    "print(type(set1))"
   ]
  },
  {
   "cell_type": "code",
   "execution_count": 10,
   "id": "97278085",
   "metadata": {},
   "outputs": [
    {
     "data": {
      "text/plain": [
       "{'akhil', 'jayanth', 'karthik', 'nithish', 'prem', 'ramana', 'vamshi', 'varun'}"
      ]
     },
     "execution_count": 10,
     "metadata": {},
     "output_type": "execute_result"
    }
   ],
   "source": [
    "#add\n",
    "set1.add('akhil')\n",
    "set1"
   ]
  },
  {
   "cell_type": "code",
   "execution_count": 12,
   "id": "e836c6a1",
   "metadata": {},
   "outputs": [
    {
     "data": {
      "text/plain": [
       "{2,\n",
       " 6,\n",
       " 8,\n",
       " 9,\n",
       " 'akhil',\n",
       " 'jayanth',\n",
       " 'karthik',\n",
       " 'nithish',\n",
       " 'prem',\n",
       " 'ramana',\n",
       " 'vamshi',\n",
       " 'varun'}"
      ]
     },
     "execution_count": 12,
     "metadata": {},
     "output_type": "execute_result"
    }
   ],
   "source": [
    "#update\n",
    "set1.update([2,8,6,9])\n",
    "set1"
   ]
  },
  {
   "cell_type": "code",
   "execution_count": 14,
   "id": "b3b53558",
   "metadata": {},
   "outputs": [
    {
     "data": {
      "text/plain": [
       "{2,\n",
       " 6,\n",
       " 8,\n",
       " 9,\n",
       " 'akhil',\n",
       " 'jayanth',\n",
       " 'karthik',\n",
       " 'nithish',\n",
       " 'prem',\n",
       " 'ramana',\n",
       " 'vamshi'}"
      ]
     },
     "execution_count": 14,
     "metadata": {},
     "output_type": "execute_result"
    }
   ],
   "source": [
    "#remove\n",
    "set1.discard('varun')\n",
    "set1"
   ]
  },
  {
   "cell_type": "code",
   "execution_count": 16,
   "id": "52fe56f5",
   "metadata": {},
   "outputs": [
    {
     "data": {
      "text/plain": [
       "11"
      ]
     },
     "execution_count": 16,
     "metadata": {},
     "output_type": "execute_result"
    }
   ],
   "source": [
    "#len\n",
    "len(set1)"
   ]
  },
  {
   "cell_type": "markdown",
   "id": "ce7f4cba",
   "metadata": {},
   "source": [
    "## Set Operations "
   ]
  },
  {
   "cell_type": "code",
   "execution_count": 20,
   "id": "8bf90067",
   "metadata": {},
   "outputs": [],
   "source": [
    "#set opertions\n",
    "set2 = {'ramana','nithish','vamshi','jayanth','prem','karthik','akhil','varun'}\n",
    "set3 = {'ramana','nithish','vamshi','raju','rakesh','kiran','dhanu','arun'}"
   ]
  },
  {
   "cell_type": "code",
   "execution_count": 21,
   "id": "408918d9",
   "metadata": {},
   "outputs": [
    {
     "data": {
      "text/plain": [
       "{'akhil',\n",
       " 'arun',\n",
       " 'dhanu',\n",
       " 'jayanth',\n",
       " 'karthik',\n",
       " 'kiran',\n",
       " 'nithish',\n",
       " 'prem',\n",
       " 'raju',\n",
       " 'rakesh',\n",
       " 'ramana',\n",
       " 'vamshi',\n",
       " 'varun'}"
      ]
     },
     "execution_count": 21,
     "metadata": {},
     "output_type": "execute_result"
    }
   ],
   "source": [
    "#union               # Combines elements from two sets, removing duplicates\n",
    "set2 | set3"
   ]
  },
  {
   "cell_type": "code",
   "execution_count": 22,
   "id": "d7a6d62d",
   "metadata": {},
   "outputs": [
    {
     "data": {
      "text/plain": [
       "{'nithish', 'ramana', 'vamshi'}"
      ]
     },
     "execution_count": 22,
     "metadata": {},
     "output_type": "execute_result"
    }
   ],
   "source": [
    "#intersection        # Returns common elements between two sets\n",
    "set2 & set3"
   ]
  },
  {
   "cell_type": "code",
   "execution_count": 25,
   "id": "ee6c03f0",
   "metadata": {},
   "outputs": [
    {
     "data": {
      "text/plain": [
       "{'akhil', 'jayanth', 'karthik', 'prem', 'varun'}"
      ]
     },
     "execution_count": 25,
     "metadata": {},
     "output_type": "execute_result"
    }
   ],
   "source": [
    "#difference          # Returns elements that are in the first set but not in the second and not intersected elements\n",
    "set2 - set3"
   ]
  },
  {
   "cell_type": "code",
   "execution_count": 27,
   "id": "f83248eb",
   "metadata": {},
   "outputs": [
    {
     "data": {
      "text/plain": [
       "{'arun', 'dhanu', 'kiran', 'raju', 'rakesh'}"
      ]
     },
     "execution_count": 27,
     "metadata": {},
     "output_type": "execute_result"
    }
   ],
   "source": [
    "#difference\n",
    "set3 - set2"
   ]
  },
  {
   "cell_type": "code",
   "execution_count": 28,
   "id": "2a2d2930",
   "metadata": {},
   "outputs": [
    {
     "data": {
      "text/plain": [
       "{'akhil',\n",
       " 'arun',\n",
       " 'dhanu',\n",
       " 'jayanth',\n",
       " 'karthik',\n",
       " 'kiran',\n",
       " 'prem',\n",
       " 'raju',\n",
       " 'rakesh',\n",
       " 'varun'}"
      ]
     },
     "execution_count": 28,
     "metadata": {},
     "output_type": "execute_result"
    }
   ],
   "source": [
    "#symmetric difference       # Returns elements that are in either of the sets, but not in both intersected elements\n",
    "set2 ^ set3"
   ]
  },
  {
   "cell_type": "code",
   "execution_count": null,
   "id": "8da914cd",
   "metadata": {},
   "outputs": [],
   "source": []
  }
 ],
 "metadata": {
  "kernelspec": {
   "display_name": "Python 3 (ipykernel)",
   "language": "python",
   "name": "python3"
  },
  "language_info": {
   "codemirror_mode": {
    "name": "ipython",
    "version": 3
   },
   "file_extension": ".py",
   "mimetype": "text/x-python",
   "name": "python",
   "nbconvert_exporter": "python",
   "pygments_lexer": "ipython3",
   "version": "3.11.5"
  }
 },
 "nbformat": 4,
 "nbformat_minor": 5
}
