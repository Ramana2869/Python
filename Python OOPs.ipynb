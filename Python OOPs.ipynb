{
 "cells": [
  {
   "cell_type": "markdown",
   "id": "4571fbe0",
   "metadata": {},
   "source": [
    "# Python Object Oriented Programming"
   ]
  },
  {
   "cell_type": "markdown",
   "id": "2e3c3331",
   "metadata": {},
   "source": [
    "Python is a versatile programming language that supports various programming styles,\n",
    "including object-oriented programming (OOP) through the use of objects and classes."
   ]
  },
  {
   "cell_type": "markdown",
   "id": "9fe2e491",
   "metadata": {},
   "source": [
    "## Python Classes/objects"
   ]
  },
  {
   "cell_type": "markdown",
   "id": "bbd9e4ee",
   "metadata": {},
   "source": [
    "Python is an object oriented programming language."
   ]
  },
  {
   "cell_type": "markdown",
   "id": "976c0103",
   "metadata": {},
   "source": [
    "Almost everything in Python is an object, with its properties and methods."
   ]
  },
  {
   "cell_type": "markdown",
   "id": "4dff4376",
   "metadata": {},
   "source": [
    "A Class is like an object constructor, or a \"blueprint\" for creating objects."
   ]
  },
  {
   "cell_type": "code",
   "execution_count": 2,
   "id": "30728079",
   "metadata": {},
   "outputs": [],
   "source": [
    "# creating a class use the keyword class:\n",
    "\n",
    "class wish:\n",
    "    a = \"hello ramana\""
   ]
  },
  {
   "cell_type": "code",
   "execution_count": 3,
   "id": "4921b90f",
   "metadata": {},
   "outputs": [
    {
     "name": "stdout",
     "output_type": "stream",
     "text": [
      "hello ramana\n"
     ]
    }
   ],
   "source": [
    "# creating object for a wish class\n",
    "\n",
    "class wish:\n",
    "    a = \"hello ramana\"\n",
    "    \n",
    "abc = wish()\n",
    "print(abc.a)"
   ]
  },
  {
   "cell_type": "markdown",
   "id": "2dc18856",
   "metadata": {},
   "source": [
    "## Self Parameter "
   ]
  },
  {
   "cell_type": "markdown",
   "id": "4b101719",
   "metadata": {},
   "source": [
    "The self parameter is a reference to the current instance of the class, and is used to access variables that belongs to the class."
   ]
  },
  {
   "cell_type": "markdown",
   "id": "8f60bf61",
   "metadata": {},
   "source": [
    "It does not have to be named self , you can call it whatever you like, but it has to be the first parameter of any function in the class."
   ]
  },
  {
   "cell_type": "markdown",
   "id": "06f96bae",
   "metadata": {},
   "source": [
    "## init() function "
   ]
  },
  {
   "cell_type": "markdown",
   "id": "10800431",
   "metadata": {},
   "source": [
    "The init method (pronounced \"dunder init\") is called the constructor."
   ]
  },
  {
   "cell_type": "markdown",
   "id": "6fddd70d",
   "metadata": {},
   "source": [
    "It is automatically executed when an object is created from a class."
   ]
  },
  {
   "cell_type": "markdown",
   "id": "5d7f9173",
   "metadata": {},
   "source": [
    "Its purpose is to initialize the attributes of the object."
   ]
  },
  {
   "cell_type": "markdown",
   "id": "1ccf3552",
   "metadata": {},
   "source": [
    "## str Method"
   ]
  },
  {
   "cell_type": "markdown",
   "id": "443b7791",
   "metadata": {},
   "source": [
    "The str method is used to provide a human-readable string representation of the object."
   ]
  },
  {
   "cell_type": "markdown",
   "id": "ecbe8571",
   "metadata": {},
   "source": [
    "It is called when the str() function is used on an object or when print() is called with an object."
   ]
  },
  {
   "cell_type": "code",
   "execution_count": 4,
   "id": "2bb6f9ba",
   "metadata": {},
   "outputs": [
    {
     "name": "stdout",
     "output_type": "stream",
     "text": [
      "samsung s 24 has 16GB RAM,256 storage and its price is 99999.\n",
      "apple 14 has 8GB RAM,128 storage and its price is 79999.\n"
     ]
    }
   ],
   "source": [
    "# examples by using object and class\n",
    "# example 1\n",
    "\n",
    "class mobile:\n",
    "    \n",
    "    def __init__(self,m_name,ram,i_storage,price):\n",
    "        self.m_name = m_name\n",
    "        self.ram = ram\n",
    "        self.i_storage = i_storage\n",
    "        self.price = price\n",
    "    \n",
    "# creating objects of the mobile class\n",
    "mobile1 = mobile(\"samsung s 24\",\"16GB\",256,99999)\n",
    "mobile2 = mobile(\"apple 14\",\"8GB\",128,79999)\n",
    "\n",
    "# accesssing object parameters\n",
    "print(f\"{mobile1.m_name} has {mobile1.ram} RAM,{mobile1.i_storage} storage and its price is {mobile1.price}.\")\n",
    "print(f\"{mobile2.m_name} has {mobile2.ram} RAM,{mobile2.i_storage} storage and its price is {mobile2.price}.\")"
   ]
  },
  {
   "cell_type": "code",
   "execution_count": 5,
   "id": "35a08d78",
   "metadata": {},
   "outputs": [
    {
     "name": "stdout",
     "output_type": "stream",
     "text": [
      "BULLET bike has 350 cc,avg mileage is 30,and its price is:200000\n",
      "GT bike has 650 cc,avg mileage is 28,and its price is:400000\n",
      "Hero splender bike has 100 cc,avg mileage is 55,and its price is:80000\n"
     ]
    }
   ],
   "source": [
    "# examole 2\n",
    "\n",
    "class Bike:\n",
    "    \n",
    "    def __init__(self,name,cc,avg,price):\n",
    "        self.name = name\n",
    "        self.cc = cc\n",
    "        self.avg = avg\n",
    "        self.price = price\n",
    "        \n",
    "    def __str__(self):\n",
    "        return f\"{self.name} bike has {self.cc} cc,avg mileage is {self.avg},and its price is:{self.price}\"\n",
    "\n",
    "# creating objects of the bike class\n",
    "bike1 = Bike(name = \"BULLET\",cc = 350,avg = 30,price = 200000)\n",
    "bike2 = Bike(name = \"GT\",cc = 650,avg = 28,price = 400000)\n",
    "bike3 = Bike(name = \"Hero splender\",cc = 100,avg = 55,price = 80000)\n",
    "\n",
    "print(bike1)\n",
    "print(bike2)\n",
    "print(bike3)"
   ]
  },
  {
   "cell_type": "code",
   "execution_count": 6,
   "id": "e95c60f8",
   "metadata": {},
   "outputs": [
    {
     "name": "stdout",
     "output_type": "stream",
     "text": [
      "Employee: John Doe, Role: Developer, Salary: 60000\n",
      "Employee: Jane Smith, Role: Manager, Salary: 80000\n",
      "John Doe's salary has been increased by 5000. New salary: 65000\n",
      "Jane Smith's salary has been increased by 10000. New salary: 90000\n"
     ]
    }
   ],
   "source": [
    "# example 3\n",
    "\n",
    "class Employee:\n",
    "    \n",
    "    def __init__(self, name, role, salary):\n",
    "        self.name = name\n",
    "        self.role = role\n",
    "        self.salary = salary\n",
    "\n",
    "    def display_info(self):\n",
    "        print(f\"Employee: {self.name}, Role: {self.role}, Salary: {self.salary}\")\n",
    "\n",
    "    def raise_salary(self, amount):\n",
    "        self.salary += amount\n",
    "        print(f\"{self.name}'s salary has been increased by {amount}. New salary: {self.salary}\")\n",
    "\n",
    "# Creating objects of the Employee class\n",
    "employee1 = Employee(name=\"John Doe\", role=\"Developer\", salary=60000)\n",
    "employee2 = Employee(name=\"Jane Smith\", role=\"Manager\", salary=80000)\n",
    "\n",
    "# Displaying employee information and giving a raise\n",
    "employee1.display_info()\n",
    "employee2.display_info()\n",
    "\n",
    "employee1.raise_salary(5000)\n",
    "employee2.raise_salary(10000)\n"
   ]
  },
  {
   "cell_type": "code",
   "execution_count": 7,
   "id": "90083951",
   "metadata": {},
   "outputs": [
    {
     "name": "stdout",
     "output_type": "stream",
     "text": [
      "course:data science  fee:30000  no.of.seats:10\n",
      "course:data analytics  fee:20000  no.of.seats:8\n",
      "course:business analyst  fee:25000  no.of.seats:12\n",
      "course:full stack python  fee:35000  no.of.seats:20\n",
      "course:digital marketing  fee:25000  no.of.seats:15\n"
     ]
    }
   ],
   "source": [
    "# example 4\n",
    "\n",
    "class teks_academy:\n",
    "    \n",
    "    def __init__(self,course,fee,no_of_seats):\n",
    "        self.course = course\n",
    "        self.fee = fee\n",
    "        self.no_of_seats = no_of_seats\n",
    "        \n",
    "    def course_info(self):\n",
    "        print(f\"course:{self.course}  fee:{self.fee}  no.of.seats:{self.no_of_seats}\")\n",
    "        \n",
    "#creating objects for teks_academy class\n",
    "course1 = teks_academy(course = \"data science\",fee = 30000,no_of_seats = 10)\n",
    "course2 = teks_academy(course = \"data analytics\",fee = 20000,no_of_seats = 8)\n",
    "course3 = teks_academy(course = \"business analyst\",fee = 25000,no_of_seats = 12)\n",
    "course4 = teks_academy(course = \"full stack python\",fee = 35000,no_of_seats = 20)\n",
    "course5 = teks_academy(course = \"digital marketing\",fee = 25000,no_of_seats = 15)\n",
    "\n",
    "course1.course_info()\n",
    "course2.course_info()\n",
    "course3.course_info()\n",
    "course4.course_info()\n",
    "course5.course_info()"
   ]
  },
  {
   "cell_type": "markdown",
   "id": "6948b3ab",
   "metadata": {},
   "source": [
    "## Python Inheritance"
   ]
  },
  {
   "cell_type": "markdown",
   "id": "0a6c955b",
   "metadata": {},
   "source": [
    "Inheritance is a way of creating a new class for using details of an existing class without modifying it."
   ]
  },
  {
   "cell_type": "markdown",
   "id": "13400497",
   "metadata": {},
   "source": [
    "The newly formed class is a derived class (or child class). Similarly, the existing class is a base class (or parent class)"
   ]
  },
  {
   "cell_type": "code",
   "execution_count": 112,
   "id": "8ef0cbe0",
   "metadata": {},
   "outputs": [
    {
     "name": "stdout",
     "output_type": "stream",
     "text": [
      "i will teach python\n",
      "i will teach sql\n",
      "i will teach power bi\n",
      "i will teach statistics\n",
      "i will teach python\n",
      "i will teach sql\n",
      "i will teach django\n",
      "i will teach html\n"
     ]
    }
   ],
   "source": [
    "# inheritance example 1\n",
    "\n",
    "# base class(parent class)\n",
    "class teks_academy:\n",
    "    \n",
    "    def python(self):\n",
    "        print(\"i will teach python\")\n",
    "        \n",
    "    def SQL(self):\n",
    "        print(\"i will teach sql\")\n",
    "        \n",
    "# derived class(child class 1)\n",
    "class data_science(teks_academy):\n",
    "    \n",
    "    def power_bi(self):\n",
    "        print(\"i will teach power bi\")\n",
    "        \n",
    "    def statistics(self):\n",
    "        print(\"i will teach statistics\")\n",
    "        \n",
    "# derived class(child class 2)       \n",
    "class full_stack_python(teks_academy):\n",
    "    \n",
    "    def django(self):\n",
    "        print(\"i will teach django\")\n",
    "        \n",
    "    def html(self):\n",
    "        print(\"i will teach html\")\n",
    "        \n",
    "# creating object for data_science class and full_stack_python\n",
    "stu1 = data_science()\n",
    "stu2 = full_stack_python()\n",
    "\n",
    "# calling members of stu1 from base class and child class 1\n",
    "stu1.python()\n",
    "stu1.SQL()\n",
    "stu1.power_bi()\n",
    "stu1.statistics()\n",
    "\n",
    "# calling members of stu2 from base class and child class 2\n",
    "stu2.python()\n",
    "stu2.SQL()\n",
    "stu2.django()\n",
    "stu2.html()"
   ]
  },
  {
   "cell_type": "markdown",
   "id": "d31c8b28",
   "metadata": {},
   "source": [
    "## Encapsulation"
   ]
  },
  {
   "cell_type": "markdown",
   "id": "ae34948d",
   "metadata": {},
   "source": [
    "Encapsulation is one of the key features of object-oriented programming."
   ]
  },
  {
   "cell_type": "markdown",
   "id": "b8d5934c",
   "metadata": {},
   "source": [
    "Encapsulation refers to the bundling of attributes and methods inside a single class."
   ]
  },
  {
   "cell_type": "markdown",
   "id": "6f292760",
   "metadata": {},
   "source": [
    "It prevents outer classes from accessing and changing attributes and methods of a class."
   ]
  },
  {
   "cell_type": "markdown",
   "id": "db169a42",
   "metadata": {},
   "source": [
    "This also helps to achieve data hiding."
   ]
  },
  {
   "cell_type": "markdown",
   "id": "6e07412a",
   "metadata": {},
   "source": [
    "In Python, we denote private attributes using underscore as the prefix i.e single _ or double __."
   ]
  },
  {
   "cell_type": "markdown",
   "id": "5669708d",
   "metadata": {},
   "source": [
    "## Polymorphism "
   ]
  },
  {
   "cell_type": "markdown",
   "id": "b975d523",
   "metadata": {},
   "source": [
    "Polymorphism is another important concept of object-oriented programming. It simply means more than one form."
   ]
  },
  {
   "cell_type": "markdown",
   "id": "339b42d6",
   "metadata": {},
   "source": [
    "That is, the same entity (method or operator or object) can perform different operations in\n",
    "different scenarios."
   ]
  },
  {
   "cell_type": "markdown",
   "id": "e246a462",
   "metadata": {},
   "source": [
    "## Abstraction "
   ]
  },
  {
   "cell_type": "markdown",
   "id": "f3254015",
   "metadata": {},
   "source": [
    "Hiding the unnecessary details."
   ]
  },
  {
   "cell_type": "markdown",
   "id": "6a258797",
   "metadata": {},
   "source": [
    "Abstraction allows you to focus on what an object does rather than how it achieves its\n",
    "functionality."
   ]
  },
  {
   "cell_type": "code",
   "execution_count": null,
   "id": "d38b293d",
   "metadata": {},
   "outputs": [],
   "source": []
  }
 ],
 "metadata": {
  "kernelspec": {
   "display_name": "Python 3 (ipykernel)",
   "language": "python",
   "name": "python3"
  },
  "language_info": {
   "codemirror_mode": {
    "name": "ipython",
    "version": 3
   },
   "file_extension": ".py",
   "mimetype": "text/x-python",
   "name": "python",
   "nbconvert_exporter": "python",
   "pygments_lexer": "ipython3",
   "version": "3.11.5"
  }
 },
 "nbformat": 4,
 "nbformat_minor": 5
}
